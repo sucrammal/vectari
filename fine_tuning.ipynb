{
  "nbformat": 4,
  "nbformat_minor": 0,
  "metadata": {
    "colab": {
      "provenance": [],
      "authorship_tag": "ABX9TyNXeOCdSE/+nMsK0ijQSEMs",
      "include_colab_link": true
    },
    "kernelspec": {
      "name": "python3",
      "display_name": "Python 3"
    },
    "language_info": {
      "name": "python"
    }
  },
  "cells": [
    {
      "cell_type": "markdown",
      "metadata": {
        "id": "view-in-github",
        "colab_type": "text"
      },
      "source": [
        "<a href=\"https://colab.research.google.com/github/sucrammal/vectari/blob/main/fine_tuning.ipynb\" target=\"_parent\"><img src=\"https://colab.research.google.com/assets/colab-badge.svg\" alt=\"Open In Colab\"/></a>"
      ]
    },
    {
      "cell_type": "markdown",
      "source": [
        "# LLM Classification and Fine Tuning\n",
        "This notebook is the summary of all that I've learnt throughout this internship about LLMs, prompting techniques, and experiments with the dataset, combined with my first attempt at fine-tuning.\n"
      ],
      "metadata": {
        "id": "dsm790SP200L"
      }
    },
    {
      "cell_type": "code",
      "execution_count": 1,
      "metadata": {
        "colab": {
          "base_uri": "https://localhost:8080/"
        },
        "cellView": "form",
        "collapsed": true,
        "id": "cTbos-X4NzeR",
        "outputId": "f959009a-76df-45c0-96e0-986c6d199bc2"
      },
      "outputs": [
        {
          "output_type": "stream",
          "name": "stdout",
          "text": [
            "Requirement already satisfied: nltk in /usr/local/lib/python3.10/dist-packages (3.8.1)\n",
            "Collecting openai\n",
            "  Downloading openai-1.39.0-py3-none-any.whl.metadata (22 kB)\n",
            "Collecting ipdb\n",
            "  Downloading ipdb-0.13.13-py3-none-any.whl.metadata (14 kB)\n",
            "Requirement already satisfied: click in /usr/local/lib/python3.10/dist-packages (from nltk) (8.1.7)\n",
            "Requirement already satisfied: joblib in /usr/local/lib/python3.10/dist-packages (from nltk) (1.4.2)\n",
            "Requirement already satisfied: regex>=2021.8.3 in /usr/local/lib/python3.10/dist-packages (from nltk) (2024.5.15)\n",
            "Requirement already satisfied: tqdm in /usr/local/lib/python3.10/dist-packages (from nltk) (4.66.4)\n",
            "Requirement already satisfied: anyio<5,>=3.5.0 in /usr/local/lib/python3.10/dist-packages (from openai) (3.7.1)\n",
            "Requirement already satisfied: distro<2,>=1.7.0 in /usr/lib/python3/dist-packages (from openai) (1.7.0)\n",
            "Collecting httpx<1,>=0.23.0 (from openai)\n",
            "  Downloading httpx-0.27.0-py3-none-any.whl.metadata (7.2 kB)\n",
            "Requirement already satisfied: pydantic<3,>=1.9.0 in /usr/local/lib/python3.10/dist-packages (from openai) (2.8.2)\n",
            "Requirement already satisfied: sniffio in /usr/local/lib/python3.10/dist-packages (from openai) (1.3.1)\n",
            "Requirement already satisfied: typing-extensions<5,>=4.7 in /usr/local/lib/python3.10/dist-packages (from openai) (4.12.2)\n",
            "Requirement already satisfied: ipython>=7.31.1 in /usr/local/lib/python3.10/dist-packages (from ipdb) (7.34.0)\n",
            "Requirement already satisfied: tomli in /usr/local/lib/python3.10/dist-packages (from ipdb) (2.0.1)\n",
            "Requirement already satisfied: decorator in /usr/local/lib/python3.10/dist-packages (from ipdb) (4.4.2)\n",
            "Requirement already satisfied: idna>=2.8 in /usr/local/lib/python3.10/dist-packages (from anyio<5,>=3.5.0->openai) (3.7)\n",
            "Requirement already satisfied: exceptiongroup in /usr/local/lib/python3.10/dist-packages (from anyio<5,>=3.5.0->openai) (1.2.2)\n",
            "Requirement already satisfied: certifi in /usr/local/lib/python3.10/dist-packages (from httpx<1,>=0.23.0->openai) (2024.7.4)\n",
            "Collecting httpcore==1.* (from httpx<1,>=0.23.0->openai)\n",
            "  Downloading httpcore-1.0.5-py3-none-any.whl.metadata (20 kB)\n",
            "Collecting h11<0.15,>=0.13 (from httpcore==1.*->httpx<1,>=0.23.0->openai)\n",
            "  Downloading h11-0.14.0-py3-none-any.whl.metadata (8.2 kB)\n",
            "Requirement already satisfied: setuptools>=18.5 in /usr/local/lib/python3.10/dist-packages (from ipython>=7.31.1->ipdb) (71.0.4)\n",
            "Collecting jedi>=0.16 (from ipython>=7.31.1->ipdb)\n",
            "  Using cached jedi-0.19.1-py2.py3-none-any.whl.metadata (22 kB)\n",
            "Requirement already satisfied: pickleshare in /usr/local/lib/python3.10/dist-packages (from ipython>=7.31.1->ipdb) (0.7.5)\n",
            "Requirement already satisfied: traitlets>=4.2 in /usr/local/lib/python3.10/dist-packages (from ipython>=7.31.1->ipdb) (5.7.1)\n",
            "Requirement already satisfied: prompt-toolkit!=3.0.0,!=3.0.1,<3.1.0,>=2.0.0 in /usr/local/lib/python3.10/dist-packages (from ipython>=7.31.1->ipdb) (3.0.47)\n",
            "Requirement already satisfied: pygments in /usr/local/lib/python3.10/dist-packages (from ipython>=7.31.1->ipdb) (2.16.1)\n",
            "Requirement already satisfied: backcall in /usr/local/lib/python3.10/dist-packages (from ipython>=7.31.1->ipdb) (0.2.0)\n",
            "Requirement already satisfied: matplotlib-inline in /usr/local/lib/python3.10/dist-packages (from ipython>=7.31.1->ipdb) (0.1.7)\n",
            "Requirement already satisfied: pexpect>4.3 in /usr/local/lib/python3.10/dist-packages (from ipython>=7.31.1->ipdb) (4.9.0)\n",
            "Requirement already satisfied: annotated-types>=0.4.0 in /usr/local/lib/python3.10/dist-packages (from pydantic<3,>=1.9.0->openai) (0.7.0)\n",
            "Requirement already satisfied: pydantic-core==2.20.1 in /usr/local/lib/python3.10/dist-packages (from pydantic<3,>=1.9.0->openai) (2.20.1)\n",
            "Requirement already satisfied: parso<0.9.0,>=0.8.3 in /usr/local/lib/python3.10/dist-packages (from jedi>=0.16->ipython>=7.31.1->ipdb) (0.8.4)\n",
            "Requirement already satisfied: ptyprocess>=0.5 in /usr/local/lib/python3.10/dist-packages (from pexpect>4.3->ipython>=7.31.1->ipdb) (0.7.0)\n",
            "Requirement already satisfied: wcwidth in /usr/local/lib/python3.10/dist-packages (from prompt-toolkit!=3.0.0,!=3.0.1,<3.1.0,>=2.0.0->ipython>=7.31.1->ipdb) (0.2.13)\n",
            "Downloading openai-1.39.0-py3-none-any.whl (336 kB)\n",
            "\u001b[2K   \u001b[90m━━━━━━━━━━━━━━━━━━━━━━━━━━━━━━━━━━━━━━━━\u001b[0m \u001b[32m336.7/336.7 kB\u001b[0m \u001b[31m937.8 kB/s\u001b[0m eta \u001b[36m0:00:00\u001b[0m\n",
            "\u001b[?25hDownloading ipdb-0.13.13-py3-none-any.whl (12 kB)\n",
            "Downloading httpx-0.27.0-py3-none-any.whl (75 kB)\n",
            "\u001b[2K   \u001b[90m━━━━━━━━━━━━━━━━━━━━━━━━━━━━━━━━━━━━━━━━\u001b[0m \u001b[32m75.6/75.6 kB\u001b[0m \u001b[31m737.7 kB/s\u001b[0m eta \u001b[36m0:00:00\u001b[0m\n",
            "\u001b[?25hDownloading httpcore-1.0.5-py3-none-any.whl (77 kB)\n",
            "\u001b[2K   \u001b[90m━━━━━━━━━━━━━━━━━━━━━━━━━━━━━━━━━━━━━━━━\u001b[0m \u001b[32m77.9/77.9 kB\u001b[0m \u001b[31m666.0 kB/s\u001b[0m eta \u001b[36m0:00:00\u001b[0m\n",
            "\u001b[?25hUsing cached jedi-0.19.1-py2.py3-none-any.whl (1.6 MB)\n",
            "Downloading h11-0.14.0-py3-none-any.whl (58 kB)\n",
            "\u001b[2K   \u001b[90m━━━━━━━━━━━━━━━━━━━━━━━━━━━━━━━━━━━━━━━━\u001b[0m \u001b[32m58.3/58.3 kB\u001b[0m \u001b[31m622.7 kB/s\u001b[0m eta \u001b[36m0:00:00\u001b[0m\n",
            "\u001b[?25hInstalling collected packages: jedi, h11, httpcore, ipdb, httpx, openai\n",
            "Successfully installed h11-0.14.0 httpcore-1.0.5 httpx-0.27.0 ipdb-0.13.13 jedi-0.19.1 openai-1.39.0\n"
          ]
        },
        {
          "output_type": "stream",
          "name": "stderr",
          "text": [
            "[nltk_data] Downloading package punkt to /root/nltk_data...\n",
            "[nltk_data]   Unzipping tokenizers/punkt.zip.\n",
            "[nltk_data] Downloading package stopwords to /root/nltk_data...\n",
            "[nltk_data]   Unzipping corpora/stopwords.zip.\n"
          ]
        },
        {
          "output_type": "stream",
          "name": "stdout",
          "text": [
            "Mounted at /content/drive\n"
          ]
        }
      ],
      "source": [
        "#@title Imports\n",
        "!pip install nltk openai ipdb\n",
        "\n",
        "import pandas as pd\n",
        "import openai\n",
        "from openai import AzureOpenAI\n",
        "from tqdm import tqdm\n",
        "import re\n",
        "from sklearn.model_selection import train_test_split\n",
        "from sklearn.metrics import classification_report, accuracy_score\n",
        "\n",
        "import ipdb\n",
        "\n",
        "import nltk\n",
        "from nltk.corpus import stopwords\n",
        "from nltk.tokenize import word_tokenize\n",
        "from nltk.stem import *\n",
        "\n",
        "nltk.download('punkt')\n",
        "nltk.download('stopwords')\n",
        "\n",
        "from google.colab import drive\n",
        "drive.mount('/content/drive')\n",
        "from google.colab import userdata\n"
      ]
    },
    {
      "cell_type": "markdown",
      "source": [
        "### Setting up OpenAI API"
      ],
      "metadata": {
        "id": "JG8j7whC9fcM"
      }
    },
    {
      "cell_type": "code",
      "source": [
        "# Setting up API\n",
        "gpt_config = {\n",
        "    'model': 'gpt-4-vectari-1106preview',\n",
        "    'azure_endpoint': 'https://oai-vectari-eastus2.openai.azure.com/',\n",
        "    'api_key': userdata.get('openAPIKey'),\n",
        "    'api_version': '2023-12-01-preview'\n",
        "}\n",
        "\n",
        "client = AzureOpenAI(\n",
        "  azure_endpoint = gpt_config['azure_endpoint'],\n",
        "  api_key = gpt_config['api_key'],\n",
        "  api_version = gpt_config['api_version']\n",
        ")"
      ],
      "metadata": {
        "id": "VC2tjkKE4EH6"
      },
      "execution_count": 2,
      "outputs": []
    },
    {
      "cell_type": "markdown",
      "source": [
        "### Loading in data\n",
        "In my own trials, I am booting the CFPB Money transfer, virtual currency, or money service dataset, 2011-2024."
      ],
      "metadata": {
        "id": "D1jr3dvM9t6k"
      }
    },
    {
      "cell_type": "code",
      "source": [
        "# instantiate input file from scratch. Skip this portion along with the LLM cleaning if you already have a cleaned dataset.\n",
        "input_file = input(\"Enter file path of raw dataset\")\n",
        "with open(input_file, 'r') as file:\n",
        "  all_complaints = pd.read_csv(file)\n",
        "\n",
        "# extract complaints with transcripts\n",
        "complaints_with_transcripts = all_complaints.loc[all_complaints[\"Consumer complaint narrative\"].notna()]\n",
        "complaints_with_transcripts.shape[0]\n",
        "\n",
        "# Run this to clean transcipts from scratch.\n",
        "LLM_cleaned_sentences = []\n",
        "all_labels = complaints_with_transcripts['Issue']\n",
        "\n",
        "tqdm.pandas(desc=\"LLM transcript cleaning\")\n",
        "LLM_cleaned_sentences = complaints_with_transcripts[\"Consumer complaint narrative\"].progress_apply(lambda x : clean_transcript(x))\n",
        "\n",
        "cleaned_dataset = pd.DataFrame({'Consumer complaint narrative': LLM_cleaned_sentences, 'Issue': all_labels})"
      ],
      "metadata": {
        "id": "qFBr2J4O9zq8"
      },
      "execution_count": null,
      "outputs": []
    },
    {
      "cell_type": "code",
      "source": [
        "# OR load LLM pre-cleaned transcripts from csv\n",
        "input_file = input(\"Enter a file name that exists in the Data folder: \")\n",
        "cleaned_dataset = pd.DataFrame()\n",
        "\n",
        "# /content/drive/MyDrive/Internships and Work/Summer 2024/Vectari/out/LLM_cleaned.csv\n",
        "with open(input_file, 'r') as file:\n",
        "    cleaned_dataset = pd.read_csv(file)"
      ],
      "metadata": {
        "colab": {
          "base_uri": "https://localhost:8080/"
        },
        "id": "R0qXa24k95bR",
        "outputId": "0f991cdc-64b2-4ecb-b8ab-a64722599fc5"
      },
      "execution_count": 3,
      "outputs": [
        {
          "name": "stdout",
          "output_type": "stream",
          "text": [
            "Enter a file name that exists in the Data folder: /content/drive/MyDrive/Internships and Work/Summer 2024/Vectari/out/LLM_cleaned.csv\n"
          ]
        }
      ]
    },
    {
      "cell_type": "markdown",
      "source": [
        "### Using LLM to clean the transcripts.\n",
        "Here, I am using the CO-STAR prompting framework to organize the instructions of the prompt."
      ],
      "metadata": {
        "id": "cXJVn04V_nXW"
      }
    },
    {
      "cell_type": "code",
      "source": [
        "cleaning_system = \"\"\"\n",
        "CONTEXT: You will receive a transcript of a phone call between a call center agent at a digital payments servicing company and a customer/borrower. You need to clean this transcript.\n",
        "\n",
        "#############\n",
        "\n",
        "OBJECTIVE: Your first job is to clean the incoming low-quality transcripts from the first dataset. These are calls about financial services and we have seen some text completely out of place.  For instance 'the first drug was fixed, and any drug after that was gonna be viral' should pretty clearly be\n",
        "'the first rate was fixed, and any rate after that was going to be variable'.\n",
        "1. Your job is to parse the text and using your natural language understanding and contextual awareness, please re-write the transcript and clean any grammar / things that do not make sense in financial use cases.\n",
        "2. Additionally, remove any unwanted 'x's, 'xxxx's, any other similar phrases representing redaction, and simply any text or numbers that aren't words.\n",
        "3. Remove any dates, names, and otherwise sensitive information.\n",
        "4. After the response is generated, remove all full stops, commas, semicolons, colons, and quotation marks.\n",
        "\n",
        "#############\n",
        "\n",
        "# STYLE #\n",
        "Financial complaint transcript\n",
        "\n",
        "#############\n",
        "\n",
        "# TONE #\n",
        "Professional, technical\n",
        "\n",
        "#############\n",
        "\n",
        "# AUDIENCE #\n",
        "Banks. I want accurate classification so that they will adopt this methodology to help organize their complaints database.\n",
        "\n",
        "#############\n",
        "\n",
        "# RESPONSE: A PARAGRAPH OF TEXT #\n",
        "\"\"\""
      ],
      "metadata": {
        "id": "Mv1YgII-AHSt"
      },
      "execution_count": null,
      "outputs": []
    },
    {
      "cell_type": "code",
      "source": [
        "def clean_transcript(transcript):\n",
        "  messages = [\n",
        "    {\n",
        "        \"role\":\"system\",\n",
        "        \"content\": cleaning_system\n",
        "    },\n",
        "    {\n",
        "        \"role\":\"user\",\n",
        "        \"content\":f'\"\"\"{transcript}\"\"\"'\n",
        "    }\n",
        "  ]\n",
        "\n",
        "  response = client.chat.completions.create(\n",
        "      model=gpt_config['model'],\n",
        "      messages = messages,\n",
        "      temperature = 0,\n",
        "      top_p = 0.2\n",
        "  )\n",
        "\n",
        "  LLM_cleaned_sample = response.choices[0].message.content\n",
        "  return LLM_cleaned_sample"
      ],
      "metadata": {
        "id": "DkPHLcwzAXeW"
      },
      "execution_count": null,
      "outputs": []
    },
    {
      "cell_type": "markdown",
      "source": [
        "### Analyzing and \"learning\" from complaint clusters.\n",
        "Using the LLM's natural language comprehension ability, I am asking the LLM to come up with its own \"cluster report\" - it's own analysis and summary of each group of complaint transcripts. Once again, I am using the CO-STAR framework. The most important part of the prompt in my experience is being clear about the format of the input.\n",
        "\n",
        "Somewhat like a RAG model of sorts, this is similar to building a \"knowledge base\" for the LLM by feeding in labeled data, asking it to summarize and pull out key words from transcripts of each category. The hope is that when I prompt it with a lone, unlabeled transcript, it will be able to reference this knowledge base and retrieve those relevant keywords."
      ],
      "metadata": {
        "id": "gkwTJKbiBLa-"
      }
    },
    {
      "cell_type": "code",
      "source": [
        "cluster_system = \"\"\"\n",
        "CONTEXT: You will now be recieving a large text containing transcripts of phone calls between a call center agent at a digital payments servicing company and a customer/borrower. This large text represents a CLUSTER of transcripts that have been categorized based on content under some label, for example, \"fraud or scam\".\n",
        "This label, referred to as the [OFFICIAL_CATEGORY_NAME], will be at the top of the prompt before the transcripts.\n",
        "Following the [OFFICIAL_CATEGORY_NAME], there will be a newline character, then individual transcripts will be consecutively shown, separated by two newline characters from one another.\n",
        "\n",
        "#############\n",
        "\n",
        "OBJECTIVE:\n",
        "Based on the cluster you have received,\n",
        "OFFICIAL CATEGORY NAME: Restate the OFFICIAL_CATEGORY_NAME given on the top of the prompt.\n",
        "CLUSTER_INFORMATION: Describe the cluster based on the content of the transcript data.\n",
        "\n",
        "#############\n",
        "\n",
        "STYLE:\n",
        "Business analytics report\n",
        "\n",
        "#############\n",
        "\n",
        "TONE:\n",
        "Professional, technical\n",
        "\n",
        "#############\n",
        "\n",
        "AUDIENCE:\n",
        "Banks. I want to help organize their complaints database.\n",
        "\n",
        "#############\n",
        "\n",
        "RESPONSE: MARKDOWN REPORT FORMATED IN THE FOLLOWING STYLE:\n",
        "– Offical name: [OFFICIAL_CATEGORY_NAME]\n",
        "— Complaint Group Profile: [CLUSTER_INFORMATION]\n",
        "\n",
        "\"\"\""
      ],
      "metadata": {
        "id": "XXHjQ-DhBLyB"
      },
      "execution_count": null,
      "outputs": []
    },
    {
      "cell_type": "code",
      "source": [
        "def cluster_complaints(cleaned_dataset):\n",
        "    clusters = cleaned_dataset.groupby('Issue')\n",
        "    cluster_info = {}\n",
        "\n",
        "    for label, group in tqdm(clusters, desc=\"Creating clusters\"):\n",
        "        # Collect all transcripts in this cluster\n",
        "        transcripts = group['Consumer complaint narrative'].tolist()\n",
        "\n",
        "        # Weird error. Passing the full, unsplit dataset through this function worked.\n",
        "        # But, passing a train set (from train_test_split) would crash since a value in transcripts would somehow not be a string.\n",
        "        filtered_list = [s for s in transcripts if isinstance(s, str)]\n",
        "\n",
        "        # Extract keywords and name cluster group.\n",
        "        all_transcripts_joined = \"\\n\\n\".join(filtered_list)\n",
        "        messages = [\n",
        "          {\n",
        "              \"role\":\"system\",\n",
        "              \"content\": cluster_system\n",
        "          },\n",
        "          {\n",
        "              \"role\":\"user\",\n",
        "              \"content\":f'\"\"\" Official name: {label} \\n Transcrips: \\n {all_transcripts_joined}\"\"\"'\n",
        "          }\n",
        "        ]\n",
        "\n",
        "        response = client.chat.completions.create(\n",
        "            model=gpt_config['model'],\n",
        "            messages = messages,\n",
        "            temperature = 0,\n",
        "            top_p = 0.2\n",
        "        )\n",
        "\n",
        "        cluster_report = response.choices[0].message.content\n",
        "\n",
        "\n",
        "        cluster_info[label] = cluster_report\n",
        "\n",
        "    return cluster_info"
      ],
      "metadata": {
        "id": "SZkzQ_9CCXQ2"
      },
      "execution_count": null,
      "outputs": []
    },
    {
      "cell_type": "markdown",
      "source": [
        "### Finally, a classification function\n",
        "After \"learning\" through analyzing labeled, example transcripts, we now see if the LLM can label an uncategorized transcript correctly. I am using 2 different prompting methods: CO-STAR, and TIDD-EC, which compared with the former, focuses on the precision and clarity of instructions rather than context, audience, and tone. This classification task might benefit from the TIDD-EC framework"
      ],
      "metadata": {
        "id": "UntIb9PnCb-W"
      }
    },
    {
      "cell_type": "markdown",
      "source": [
        "**CO-STAR prompt and function implementation**"
      ],
      "metadata": {
        "id": "cwH55C_fSgM5"
      }
    },
    {
      "cell_type": "code",
      "source": [
        "classify_system_COSTAR = \"\"\"\n",
        "CONTEXT: You have previously created Complaint Groups of transcripts of complaint phone calls between a call center agent at a digital payments servicing company and a customer/borrower based\n",
        "on the category of the complaints. Transcripts under each Complaint Group has been categorized based on content under some label, for example, \"fraud or scam\".\n",
        "\n",
        "You will now be recieving three things: the first is a set of markdown reports representing the information you have gathered and organized for each CLUSTER, and are of the following format:\n",
        "\"– Offical name: [OFFICIAL_CATEGORY_NAME]\n",
        "— Complaint Group Profile: [CLUSTER_INFORMATION]\"\n",
        "Each markdown report for each Complaint Group will be separated by a new line character, \"\\n\".\n",
        "\n",
        "The second piece of data you will receive is a transcript that has not been categorized into one of your CLUSTERs yet.\n",
        "\n",
        "The third piece of data you will receive is a comma-separated list of [OFFICIAL_CATEGORY_NAME]'s, representing all possible categories that the aformentioned transcript can belong to.\n",
        "\n",
        "#############\n",
        "\n",
        "OBJECTIVE: Based on your natural language understanding, and your understanding of the cluster markdown reports, determine which [OFFICIAL_CATEGORY_NAME] from the list, the incoming transcript belongs under.\n",
        "\n",
        "#############\n",
        "\n",
        "STYLE: Business analytics report\n",
        "\n",
        "#############\n",
        "\n",
        "TONE: Professional, technical\n",
        "\n",
        "#############\n",
        "\n",
        "AUDIENCE: Banks. I want accurate classification so that they will adopt this methodology to help organize their complaints database.\n",
        "\n",
        "#############\n",
        "\n",
        "# RESPONSE: Single line of text containing ONLY one [OFFICIAL_CATEGORY_NAME] of your choosing from the comma-separated category name list: #\n",
        "[OFFICIAL_CATEGORY_NAME]\n",
        "\"\"\""
      ],
      "metadata": {
        "id": "zBKqhZzDChxh"
      },
      "execution_count": null,
      "outputs": []
    },
    {
      "cell_type": "code",
      "source": [
        "def classify_transcript_COSTAR(cluster_info, new_transcript):\n",
        "  # unpack official label names,\n",
        "  labels = cluster_info.keys()\n",
        "\n",
        "  # Join the keys into a string separated by commas\n",
        "  labels_string = ', '.join(labels)\n",
        "\n",
        "  # unpack and format cluster_info, aka the reports\n",
        "  markdown_reports = \"\"\n",
        "\n",
        "  for report in cluster_info.values():\n",
        "    markdown_reports = \"\\n\".join(report)\n",
        "\n",
        "  messages = [\n",
        "          {\n",
        "              \"role\":\"system\",\n",
        "              \"content\": classify_system_COSTAR\n",
        "          },\n",
        "          {\n",
        "              \"role\":\"user\",\n",
        "              \"content\":f'\"\"\"Cluster markdown reports: \\n {markdown_reports} \\n Transcript to-be classified: \\n {new_transcript} \\n Category list: \\n {labels_string}\"\"\"'\n",
        "          }\n",
        "        ]\n",
        "\n",
        "  response = client.chat.completions.create(\n",
        "            model=gpt_config['model'],\n",
        "            messages = messages,\n",
        "            temperature = 0,\n",
        "            top_p = 0.2\n",
        "        )\n",
        "\n",
        "  complaint_label = response.choices[0].message.content\n",
        "\n",
        "  return complaint_label\n"
      ],
      "metadata": {
        "id": "0APOlxNGSWY7"
      },
      "execution_count": null,
      "outputs": []
    },
    {
      "cell_type": "markdown",
      "source": [
        "**TIDD-EC prompt and function implementation**"
      ],
      "metadata": {
        "id": "f2c7rer8SmIz"
      }
    },
    {
      "cell_type": "code",
      "source": [
        "def generate_TIDDER_prompt(cluster_info, category_list):\n",
        "\n",
        "  classify_system_TIDDER = \"\"\"\n",
        "\n",
        "  TASK TYPE:\n",
        "  You are a compliance analyst, tasked with the job of classifying incoming complaint transcripts of phone calls between a call center agent at a digital payments servicing company and a customer/borrower\n",
        "  under a specific set of categories, based on a cluster report that you have previously made. This cluster report details the specific characteristics of each type of complaint category.\n",
        "\n",
        "  #############\n",
        "\n",
        "  INSTRUCTIONS:\n",
        "  You will now be recieving three things: the first is the cluster report, containing the information you have gathered and organized for each complaint category, and are of the following format:\n",
        "  – Offical name: [OFFICIAL_CATEGORY_NAME]\n",
        "  — Complaint Group Profile: [CLUSTER_INFORMATION]\n",
        "  Each markdown report for each complaint category will be separated by a new line character, \"\\n\".\n",
        "\n",
        "  The second piece of data you will receive is a comma-separated list of [OFFICIAL_CATEGORY_NAME]'s, representing all possible categories that the aformentioned transcript can belong to.\n",
        "\n",
        "  These pieces of data will be available in the USER CONTENT section of this prompt.\n",
        "\n",
        "  The last piece of data you will receive is a transcript that has not been categorized into one of your CLUSTERs yet.\n",
        "\n",
        "  Based on your natural language understanding, and your understanding of the cluster markdown reports, determine which [OFFICIAL_CATEGORY_NAME] from the list, the incoming transcript belongs under.\n",
        "  Your response should be a single line of text containing ONLY one [OFFICIAL_CATEGORY_NAME] of your choosing from the comma-separated category name list.\n",
        "\n",
        "  #############\n",
        "\n",
        "  DO:\n",
        "  - Parse through the cluster report in its entirety, picking up key words that are characteristic to each complaint category.\n",
        "  - Only pick ONLY ONE [OFFICIAL_CATEGORY_NAME] of your choosing from the comma-separated category name list.\n",
        "\n",
        "  #############\n",
        "\n",
        "  DON'T:\n",
        "  – Produce your own category name to label the incoming lone transcript.\n",
        "\n",
        "  #############\n",
        "\n",
        "  EXAMPLE:\n",
        "\n",
        "  - Sample input:\n",
        "  I am a citizen living presently in [Country Name].\n",
        "  I received a phone call about an attractive sales offer for a diamond priced at $5700. However, I soon realized that it was a scam because the seller told me that he already had a buyer for the diamond. This made me suspicious because if it was a legitimate sale, he wouldn't continue to sell it when he could get more for it elsewhere. I tried to verify the seller's address but couldn't find any specifics to confirm. He claimed to be located in [City Name] but I couldn't verify the details.\n",
        "  I requested to cancel the sale and receive a refund for the money I had already sent via PayPal. The seller made me believe that I would be refunded and mentioned that the treasurer would contact me for my bank details. However, as time passed, I realized that there would be no refund.\n",
        "  When I filed a dispute with PayPal, the seller mentioned that the deadline for retraction had expired and that I should have sent a registered letter to the [City Name] office. It was then that I found out the address of the office in [City Name], but I have doubts about its legitimacy. The office is a small storefront on a back street.\n",
        "  Please note that a sales contract by telephone in [Country Name] is not valid without a written and signed contract presented by the seller to the buyer. I never received a detailed contract from him and I didn't even know his address and sales conditions until it was too late. I haven't received the diamond and I don't want it. I just want my money back that PayPal advanced to the buyer, which amounts to $1500.\n",
        "  Additionally, when I logged onto the seller's website, I changed my password for my usual one, unfortunately the same password I use for my PayPal access. Shortly after, PayPal notified me that my account had been breached from an unknown location. I immediately changed my PayPal password. Although I have no evidence that the seller is responsible, it seems very suspicious.\n",
        "\n",
        "  - Resulting output:\n",
        "  Fraud or scam\n",
        "\n",
        "  #############\n",
        "\n",
        "  USER CONTENT:\n",
        "  \"\"\" + f\"{cluster_info} \\n {category_list}\"\n",
        "\n",
        "  return classify_system_TIDDER"
      ],
      "metadata": {
        "id": "x23Yrk_9K4kK"
      },
      "execution_count": null,
      "outputs": []
    },
    {
      "cell_type": "code",
      "source": [
        "def classify_transcript_TIDDEC(cluster_info, new_transcript):\n",
        "  # unpack official label names,\n",
        "  labels = cluster_info.keys()\n",
        "\n",
        "  # Join the keys into a string separated by commas\n",
        "  labels_string = ', '.join(labels)\n",
        "\n",
        "  # unpack and format cluster_info, aka the reports\n",
        "  markdown_reports = \"\"\n",
        "\n",
        "  for report in cluster_info.values():\n",
        "    markdown_reports = \"\\n\".join(report)\n",
        "\n",
        "  messages = [\n",
        "          {\n",
        "              \"role\":\"system\",\n",
        "              \"content\": generate_TIDDER_prompt(markdown_reports, labels_string)\n",
        "          },\n",
        "          {\n",
        "              \"role\":\"user\",\n",
        "              \"content\":f'\"\"\" Transcript to-be classified: \\n {new_transcript} \"\"\"'\n",
        "          }\n",
        "        ]\n",
        "\n",
        "  response = client.chat.completions.create(\n",
        "            model=gpt_config['model'],\n",
        "            messages = messages,\n",
        "            temperature = 0,\n",
        "            top_p = 0.2\n",
        "        )\n",
        "\n",
        "  complaint_label = response.choices[0].message.content\n",
        "\n",
        "  return complaint_label\n"
      ],
      "metadata": {
        "id": "Q5DTGKFDSbuB"
      },
      "execution_count": null,
      "outputs": []
    },
    {
      "cell_type": "markdown",
      "source": [
        "### Now, let's run the above code!"
      ],
      "metadata": {
        "id": "Us7MYkfNTUbY"
      }
    },
    {
      "cell_type": "code",
      "source": [
        "train_dataset, test_dataset = train_test_split(cleaned_dataset, random_state=104, test_size=0.20, shuffle = True)"
      ],
      "metadata": {
        "id": "-QoNhZdLTY1X"
      },
      "execution_count": null,
      "outputs": []
    },
    {
      "cell_type": "code",
      "source": [
        "# Generate the cluster report\n",
        "cluster_info = cluster_complaints(train_dataset)\n",
        "print(cluster_info.keys())"
      ],
      "metadata": {
        "colab": {
          "base_uri": "https://localhost:8080/"
        },
        "id": "ZrqoZ498TtxJ",
        "outputId": "595ea38a-fc1d-4e7e-88b3-10102a21bec5"
      },
      "execution_count": null,
      "outputs": [
        {
          "output_type": "stream",
          "name": "stderr",
          "text": [
            "Creating clusters: 100%|██████████| 6/6 [03:08<00:00, 31.36s/it]"
          ]
        },
        {
          "output_type": "stream",
          "name": "stdout",
          "text": [
            "dict_keys(['Fraud or scam', 'Incorrect/missing disclosures or info', 'Money was not available when promised', 'Other service issues', 'Other transaction issues', 'Wrong amount charged or received'])\n"
          ]
        },
        {
          "output_type": "stream",
          "name": "stderr",
          "text": [
            "\n"
          ]
        }
      ]
    },
    {
      "cell_type": "code",
      "source": [
        "# Optional: export cluster data to a file.\n",
        "import json\n",
        "\n",
        "# Convert dictionary to a string\n",
        "dict_string = json.dumps(cluster_info, indent=4)\n",
        "\n",
        "# Write the string to a file\n",
        "with open('cluster_info.txt', 'w') as file:\n",
        "    file.write(dict_string)\n",
        "\n",
        "# NOTE: Adjust the file path to your liking!\n",
        "!cp cluster_info.txt \"/content/drive/MyDrive/Internships and Work/Summer 2024/Vectari/out\""
      ],
      "metadata": {
        "id": "48u50QcSTyDf"
      },
      "execution_count": null,
      "outputs": []
    },
    {
      "cell_type": "markdown",
      "source": [
        "Now, let's classify. First, let's use the CO-STAR framework."
      ],
      "metadata": {
        "id": "7bwF2AdgUcsb"
      }
    },
    {
      "cell_type": "code",
      "source": [
        "predicted_labels_COSTAR = []\n",
        "for transcript in tqdm(test_dataset['Consumer complaint narrative'], desc=\"Predicting labels\"):\n",
        "    predicted_labels_COSTAR.append(classify_transcript_COSTAR(cluster_info, transcript))"
      ],
      "metadata": {
        "colab": {
          "base_uri": "https://localhost:8080/"
        },
        "id": "txi6E-f7UUic",
        "outputId": "aeb3758e-86c2-4e1c-a1b4-b2907561e823"
      },
      "execution_count": null,
      "outputs": [
        {
          "output_type": "stream",
          "name": "stderr",
          "text": [
            "Predicting labels:  99%|█████████▉| 1059/1071 [1:40:12<00:23,  1.95s/it]"
          ]
        }
      ]
    },
    {
      "cell_type": "markdown",
      "source": [
        "Then, classify with TIDD-EC"
      ],
      "metadata": {
        "id": "SIZ2OCwDUoT7"
      }
    },
    {
      "cell_type": "code",
      "source": [
        "predicted_labels_TIDDEC = []\n",
        "for transcript in tqdm(test_dataset['Consumer complaint narrative'], desc=\"Predicting labels\"):\n",
        "    predicted_labels_TIDDEC.append(classify_transcript_COSTAR(cluster_info, transcript))"
      ],
      "metadata": {
        "id": "MYlZSVmSUlPi"
      },
      "execution_count": null,
      "outputs": []
    },
    {
      "cell_type": "code",
      "source": [
        "# And, generate classification report\n",
        "test_labels = test_dataset['Issue'].tolist()\n",
        "\n",
        "# Evaluation for CO-STAR\n",
        "COSTAR_report = \"Accuracy for CO-STAR classifier:\" + accuracy_score(test_labels, predicted_labels_COSTAR) + \"\\nClassification Report:\\n\" + classification_report(test_labels, predicted_labels_COSTAR)\n",
        "print(COSTAR_report)\n",
        "\n",
        "# Evaluation for TIDD-EC\n",
        "TIDDEC_report = \"Accuracy for TIDD-EC classifier:\" + accuracy_score(test_labels, predicted_labels_TIDDEC) + \"\\nClassification Report:\\n\" + classification_report(test_labels, predicted_labels_TIDDEC)\n",
        "print(TIDDEC_report)\n"
      ],
      "metadata": {
        "id": "J_RY9aE2UYjZ"
      },
      "execution_count": null,
      "outputs": []
    },
    {
      "cell_type": "code",
      "source": [
        "# Optional: export cluster data to a file.\n",
        "import json\n",
        "\n",
        "# Convert dictionary to a string\n",
        "report_string = COSTAR_report + \"\\n\\n\" + TIDDEC_report\n",
        "\n",
        "# Write the string to a file\n",
        "with open('classifier_report.txt', 'w') as file:\n",
        "    file.write(report_string)\n",
        "\n",
        "# NOTE: Adjust the file path.\n",
        "!cp cluster_info.txt \"/content/drive/MyDrive/Internships and Work/Summer 2024/Vectari/out\""
      ],
      "metadata": {
        "id": "rknTSCyc2S52"
      },
      "execution_count": null,
      "outputs": []
    },
    {
      "cell_type": "markdown",
      "source": [
        "# Analyzing results\n",
        "\n",
        "**CO-STAR vs. TIDD-EC:**\n",
        "\n",
        "As expected, the TIDD-EC classifier performed slightly better than the CO-STAR prompt (in terms of overall accuracy).\n",
        "![Screenshot 2024-06-22 at 6.16.51 PM.png](data:image/png;base64,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)\n",
        "\n",
        "Given the different types of input data, and the specific requirements of the output, a \"do\"s and \"don't\"s framework seems to do better.\n",
        "\n",
        "\n",
        "**Dataset quality, distinctiveness of language, and class balance:**\n",
        "\n",
        "In general, though, these prompting classifiers still performs laughably bad. Throughout my previous proof-of-concepts, it was very clear that, in part, this poor performance could be attributed to the \"noise\" of the dataset I used, and of many other CFPB datasets. For example, the LLM is able to accurately identify \"fraud or scam\" complaints due to its unique and strong language, whereas when faced with \"other transaction issues\", with ambiguous and poorly defined, it fails to identify it completely.\n",
        "\n",
        "Additionally, classes are way off balance here:\n",
        "```\n",
        "Fraud or scam                            508\n",
        "Other transaction issues                 469\n",
        "Money was not available when promised    259\n",
        "Other service issues                     130\n",
        "Wrong amount charged or received          73\n",
        "Incorrect/missing disclosures or info     58\n",
        "\n",
        "```\n",
        "This could explain bias towards identifying 'fraud or scam' complaints rather than the less prominent categories.\n"
      ],
      "metadata": {
        "id": "zG4ARR8XU-yf"
      }
    },
    {
      "cell_type": "markdown",
      "source": [
        "# Moving forward: Eliminating ambiguous categories, rough fine-tuning:\n",
        "\n",
        "The hope is the \"other...\" labeled complaints are less relevant to deserve its own defined categorization. Let's focus on the clearer labels, and filter the ambiguous ones to see if we can get better results.\n",
        "\n",
        "And, in the previous classifiers, we have been using a RAG-like technique to gear our model towards the classification task. This has been a lightweight, albeit inaccurate technique to quickly build a classifier.\n",
        "\n",
        "1. How about building out a full RAG model, with a proper retriever?  \n",
        "2. How about instead of the rough \"knowledge base\", we standardize the format of input-output training data, and feed it to the model for fine tuning?\n",
        "3. Function calling: instead of specifying in the prompt on how the output should be, we can specify a \"tool\" function for reliable clarity.\n",
        "\n",
        "Implenting step 2, I'll using transfer learning to fine-tune the model. A future exploration will be dedicated to using more low-cost techniques, like PEFT and LoRA."
      ],
      "metadata": {
        "id": "_kMJqkW3D93w"
      }
    },
    {
      "cell_type": "code",
      "source": [
        "# aggregate data via \"Issue\" type to build bag of words for each category.\n",
        "issue_groups = cleaned_dataset.groupby(\"Issue\")\n",
        "\n",
        "# identify unique \"Issue\" labels\n",
        "issue_counts = cleaned_dataset['Issue'].value_counts()\n",
        "print(\"\\nNumber of entries under each 'Issue' type:\")\n",
        "print(issue_counts)"
      ],
      "metadata": {
        "colab": {
          "base_uri": "https://localhost:8080/"
        },
        "id": "y91mZczMxgbA",
        "outputId": "156f3f7b-0b4e-4529-cb9e-b5d8895b46f7"
      },
      "execution_count": 5,
      "outputs": [
        {
          "output_type": "stream",
          "name": "stdout",
          "text": [
            "\n",
            "Number of entries under each 'Issue' type:\n",
            "Issue\n",
            "Fraud or scam                            508\n",
            "Other transaction issues                 469\n",
            "Money was not available when promised    259\n",
            "Other service issues                     130\n",
            "Wrong amount charged or received          73\n",
            "Incorrect/missing disclosures or info     58\n",
            "Name: count, dtype: int64\n"
          ]
        }
      ]
    },
    {
      "cell_type": "code",
      "source": [
        "# Filter out ambiguous complaint groups\n",
        "clarified_dataset = cleaned_dataset.loc[(cleaned_dataset['Issue'] != \"Other transaction issues\") & (cleaned_dataset['Issue'] != \"Other service issues\")]"
      ],
      "metadata": {
        "id": "Dd5i-ySByYqS"
      },
      "execution_count": 33,
      "outputs": []
    },
    {
      "cell_type": "code",
      "source": [
        "num_samples_per_issue = 30\n",
        "num_issues = len(clarified_dataset.groupby('Issue').groups.keys())\n",
        "sampling_percentage = (num_samples_per_issue * num_issues) / clarified_dataset.shape[0]\n",
        "print(sampling_percentage)"
      ],
      "metadata": {
        "colab": {
          "base_uri": "https://localhost:8080/"
        },
        "id": "0ItMDv8URgoL",
        "outputId": "e80691a9-beb2-422e-f2f2-7db21d79b21e"
      },
      "execution_count": 53,
      "outputs": [
        {
          "output_type": "stream",
          "name": "stdout",
          "text": [
            "0.133630289532294\n"
          ]
        }
      ]
    },
    {
      "cell_type": "code",
      "source": [
        "# Split the dataset so that we can get more training data.\n",
        "sampled_dataset, test_dataset = train_test_split(clarified_dataset, random_state = 104, test_size = 1 - round(sampling_percentage, 3), shuffle=True)"
      ],
      "metadata": {
        "id": "ADOsikQ3RIEJ"
      },
      "execution_count": 54,
      "outputs": []
    },
    {
      "cell_type": "code",
      "source": [
        "# Sample just a couple complaints from each group\n",
        "train_dataset = sampled_dataset.groupby('Issue', as_index = False,group_keys=False).apply(lambda s: s.sample(num_samples_per_issue))\n",
        "\n",
        "issue_counts = train_dataset['Issue'].value_counts()\n",
        "print(\"\\nNumber of entries under each 'Issue' type:\")\n",
        "print(issue_counts)"
      ],
      "metadata": {
        "colab": {
          "base_uri": "https://localhost:8080/"
        },
        "id": "9zDgS3Rbd9i1",
        "outputId": "7b09e617-8854-4524-a03f-8e6e29cfe2d9"
      },
      "execution_count": 41,
      "outputs": [
        {
          "output_type": "stream",
          "name": "stdout",
          "text": [
            "\n",
            "Number of entries under each 'Issue' type:\n",
            "Issue\n",
            "Fraud or scam                            30\n",
            "Incorrect/missing disclosures or info    30\n",
            "Money was not available when promised    30\n",
            "Wrong amount charged or received         30\n",
            "Name: count, dtype: int64\n"
          ]
        }
      ]
    },
    {
      "cell_type": "code",
      "source": [
        "#@markdown Raw Prompt without examples.\n",
        "raw_prompt = \"\"\"\n",
        "TASK TYPE:\n",
        "  You are a compliance analyst, tasked with the job of classifying incoming complaint transcripts of phone calls between a call center agent at a digital payments servicing company and a customer/borrower\n",
        "  under a specific set of categories. You will be fine-tuned on already-labeled transcripts to provide you information on how to perform the classification correctly.\n",
        "\n",
        "  #############\n",
        "\n",
        "  INSTRUCTIONS:\n",
        "  You will now be recieving two things:\n",
        "  The first is a comma-separated list of [OFFICIAL_CATEGORY_NAME]'s, representing all possible categories that the aformentioned transcript can belong to.\n",
        "\n",
        "  The second piece of data you will receive is a transcript that has not been categorized into one of your CLUSTERs yet.\n",
        "\n",
        "  Based on your natural language understanding, and your understanding of the cluster markdown reports, determine which [OFFICIAL_CATEGORY_NAME] from the list, the incoming transcript belongs under.\n",
        "  Your response should be a single line of text containing ONLY one [OFFICIAL_CATEGORY_NAME] of your choosing from the comma-separated category name list.\n",
        "\n",
        "  #############\n",
        "\n",
        "  DO:\n",
        "  - Parse through the cluster report in its entirety, picking up key words that are characteristic to each complaint category.\n",
        "  - Only pick ONLY ONE [OFFICIAL_CATEGORY_NAME] of your choosing from the comma-separated category name list.\n",
        "\n",
        "  #############\n",
        "\n",
        "  DON'T:\n",
        "  – Produce your own category name to label the incoming lone transcript.\n",
        "\n",
        "  #############\n",
        "\n",
        "  EXAMPLE:\n",
        "\n",
        "  - Sample input:\n",
        "  I am a citizen living presently in [Country Name].\n",
        "  I received a phone call about an attractive sales offer for a diamond priced at $5700. However, I soon realized that it was a scam because the seller told me that he already had a buyer for the diamond. This made me suspicious because if it was a legitimate sale, he wouldn't continue to sell it when he could get more for it elsewhere. I tried to verify the seller's address but couldn't find any specifics to confirm. He claimed to be located in [City Name] but I couldn't verify the details.\n",
        "  I requested to cancel the sale and receive a refund for the money I had already sent via PayPal. The seller made me believe that I would be refunded and mentioned that the treasurer would contact me for my bank details. However, as time passed, I realized that there would be no refund.\n",
        "  When I filed a dispute with PayPal, the seller mentioned that the deadline for retraction had expired and that I should have sent a registered letter to the [City Name] office. It was then that I found out the address of the office in [City Name], but I have doubts about its legitimacy. The office is a small storefront on a back street.\n",
        "  Please note that a sales contract by telephone in [Country Name] is not valid without a written and signed contract presented by the seller to the buyer. I never received a detailed contract from him and I didn't even know his address and sales conditions until it was too late. I haven't received the diamond and I don't want it. I just want my money back that PayPal advanced to the buyer, which amounts to $1500.\n",
        "  Additionally, when I logged onto the seller's website, I changed my password for my usual one, unfortunately the same password I use for my PayPal access. Shortly after, PayPal notified me that my account had been breached from an unknown location. I immediately changed my PayPal password. Although I have no evidence that the seller is responsible, it seems very suspicious.\n",
        "\n",
        "  - Resulting output:\n",
        "  Fraud or scam\n",
        "\n",
        "  #############\"\"\""
      ],
      "metadata": {
        "cellView": "form",
        "id": "AutbntAvXXfn"
      },
      "execution_count": 28,
      "outputs": []
    },
    {
      "cell_type": "code",
      "source": [
        "# Convert the input-output training data into standardized JSON format.\n",
        "# Can change the JSON format for different structure and clarity\n",
        "import json\n",
        "def convert_to_jsonl(labeled_df, output_file):\n",
        "  jsonl_data = []\n",
        "  for index, row in labeled_df.iterrows():\n",
        "    # Assuming the dataset is comma-separated\n",
        "    user_message = row['Consumer complaint narrative']\n",
        "    model_response = row[\"Issue\"]\n",
        "    conversation = [\n",
        "    {'role': 'system', 'content': raw_prompt},\n",
        "    {'role': 'user', 'content': user_message},\n",
        "    {'role': 'assistant', 'content': model_response}]\n",
        "    jsonl_data.append(json.dumps({\"messages\": conversation}))\n",
        "\n",
        "  with open(output_file, 'w', encoding='utf-8') as outfile:\n",
        "    outfile.write('\\n'.join(jsonl_data))\n"
      ],
      "metadata": {
        "id": "FN9mLRr1HVzB"
      },
      "execution_count": 42,
      "outputs": []
    },
    {
      "cell_type": "code",
      "source": [
        "convert_to_jsonl(train_dataset, 'dataset.jsonl')"
      ],
      "metadata": {
        "id": "P3j1OTjdT5mk"
      },
      "execution_count": 43,
      "outputs": []
    },
    {
      "cell_type": "code",
      "source": [
        "#@title Function to generate the fine-tune prompt\n",
        "def generate_fine_tune_prompt(json_file):\n",
        "  with open('dataset.jsonl', 'r', encoding='utf-8') as infile:\n",
        "    conversations = infile.read()\n",
        "\n",
        "  new_classifier_prompt = \"\"\"\n",
        "  TASK TYPE:\n",
        "  You are a compliance analyst, tasked with the job of classifying incoming complaint transcripts of phone calls between a call center agent at a digital payments servicing company and a customer/borrower\n",
        "  under a specific set of categories. You will be fine-tuned on already-labeled transcripts to provide you information on how to perform the classification correctly.\n",
        "\n",
        "  #############\n",
        "\n",
        "  INSTRUCTIONS:\n",
        "  You will now be recieving two things:\n",
        "  The first is a comma-separated list of [OFFICIAL_CATEGORY_NAME]'s, representing all possible categories that the aformentioned transcript can belong to.\n",
        "\n",
        "  The second piece of data you will receive is a transcript that has not been categorized into one of your CLUSTERs yet.\n",
        "\n",
        "  Based on your natural language understanding, and your understanding of the cluster markdown reports, determine which [OFFICIAL_CATEGORY_NAME] from the list, the incoming transcript belongs under.\n",
        "  Your response should be a single line of text containing ONLY one [OFFICIAL_CATEGORY_NAME] of your choosing from the comma-separated category name list.\n",
        "\n",
        "  #############\n",
        "\n",
        "  DO:\n",
        "  - Parse through the cluster report in its entirety, picking up key words that are characteristic to each complaint category.\n",
        "  - Only pick ONLY ONE [OFFICIAL_CATEGORY_NAME] of your choosing from the comma-separated category name list.\n",
        "\n",
        "  #############\n",
        "\n",
        "  DON'T:\n",
        "  – Produce your own category name to label the incoming lone transcript.\n",
        "\n",
        "  #############\n",
        "\n",
        "  EXAMPLE:\n",
        "\n",
        "  - Sample input:\n",
        "  I am a citizen living presently in [Country Name].\n",
        "  I received a phone call about an attractive sales offer for a diamond priced at $5700. However, I soon realized that it was a scam because the seller told me that he already had a buyer for the diamond. This made me suspicious because if it was a legitimate sale, he wouldn't continue to sell it when he could get more for it elsewhere. I tried to verify the seller's address but couldn't find any specifics to confirm. He claimed to be located in [City Name] but I couldn't verify the details.\n",
        "  I requested to cancel the sale and receive a refund for the money I had already sent via PayPal. The seller made me believe that I would be refunded and mentioned that the treasurer would contact me for my bank details. However, as time passed, I realized that there would be no refund.\n",
        "  When I filed a dispute with PayPal, the seller mentioned that the deadline for retraction had expired and that I should have sent a registered letter to the [City Name] office. It was then that I found out the address of the office in [City Name], but I have doubts about its legitimacy. The office is a small storefront on a back street.\n",
        "  Please note that a sales contract by telephone in [Country Name] is not valid without a written and signed contract presented by the seller to the buyer. I never received a detailed contract from him and I didn't even know his address and sales conditions until it was too late. I haven't received the diamond and I don't want it. I just want my money back that PayPal advanced to the buyer, which amounts to $1500.\n",
        "  Additionally, when I logged onto the seller's website, I changed my password for my usual one, unfortunately the same password I use for my PayPal access. Shortly after, PayPal notified me that my account had been breached from an unknown location. I immediately changed my PayPal password. Although I have no evidence that the seller is responsible, it seems very suspicious.\n",
        "\n",
        "  - Resulting output:\n",
        "  Fraud or scam\n",
        "\n",
        "  #############\n",
        "\n",
        "  TRAINING DATA FOR YOUR ANALYSIS:\n",
        "  \"\"\" + f\"{conversations}\"\n",
        "\n",
        "  return new_classifier_prompt"
      ],
      "metadata": {
        "id": "j9-WuLm6T4Et",
        "cellView": "form"
      },
      "execution_count": 44,
      "outputs": []
    },
    {
      "cell_type": "code",
      "source": [
        "#@markdown Originally wrote a function for LLM to specify output.\n",
        "# tools = [{\n",
        "            #     \"type\": \"function\",\n",
        "            #     \"function\": {\n",
        "            #         \"name\": \"complaint_classifier\",\n",
        "            #         \"description\": \"select the correct category for an incoming complaint\",\n",
        "            #         \"parameters\": {\n",
        "            #             \"type\": \"object\",\n",
        "            #             \"properties\": {\n",
        "            #                 \"category\": {\n",
        "            #                   \"type\": \"string\",\n",
        "            #                   # way to not hard code this?\n",
        "            #                   \"enum\": [\"Fraud or scam\", \"Money was not available when promised\", \"Wrong amount charged or receive\", \"Incorrect/missing disclosures or info\"]\n",
        "\n",
        "            #                 },\n",
        "            #             },\n",
        "            #         },\n",
        "            #         \"required\": [\"category\"],\n",
        "            #     },\n",
        "            # }],"
      ],
      "metadata": {
        "cellView": "form",
        "id": "fwwU-Ld4Z9qa"
      },
      "execution_count": null,
      "outputs": []
    },
    {
      "cell_type": "code",
      "source": [
        "def fine_tune_classifier(new_transcript, json_file_name):\n",
        "  messages = [\n",
        "          {\n",
        "              \"role\":\"system\",\n",
        "              \"content\": generate_fine_tune_prompt(json_file_name)\n",
        "          },\n",
        "          {\n",
        "              \"role\":\"user\",\n",
        "              \"content\":f'\"\"\" Transcript to-be classified: \\n {new_transcript} \"\"\"'\n",
        "          }\n",
        "        ]\n",
        "\n",
        "  response = client.chat.completions.create(\n",
        "            model=gpt_config['model'],\n",
        "            messages = messages,\n",
        "            temperature = 0,\n",
        "            top_p = 0.2,\n",
        "        )\n",
        "\n",
        "  complaint_label = response.choices[0].message.content\n",
        "\n",
        "  return complaint_label\n",
        "\n"
      ],
      "metadata": {
        "id": "yNUFcE2yJNa0"
      },
      "execution_count": 45,
      "outputs": []
    },
    {
      "cell_type": "code",
      "source": [
        "# Sample classify.\n",
        "print(test_dataset.iloc[0])\n",
        "\n",
        "print(fine_tune_classifier(test_dataset['Consumer complaint narrative'].iloc[0], \"dataset.jsonl\"))"
      ],
      "metadata": {
        "colab": {
          "base_uri": "https://localhost:8080/"
        },
        "id": "qAtVSAiGa7Df",
        "outputId": "b2f33aef-eef4-4449-a1ed-33d98b69d343"
      },
      "execution_count": null,
      "outputs": [
        {
          "output_type": "stream",
          "name": "stdout",
          "text": [
            "I apologize for the inconvenience you've experienced with your vehicle import. It seems that there are issues with the exporter in XXXX, which is causing a delay in the delivery of your purchased vehicle. In order to receive the vehicle, you would need to arrange and pay for alternative shipping methods. Please let us know if there is anything else we can do to assist you.\n",
            "Incorrect/missing disclosures or info\n"
          ]
        }
      ]
    },
    {
      "cell_type": "markdown",
      "source": [
        "**Using the new transcript \"fine-tuning\" method**"
      ],
      "metadata": {
        "id": "kl6r63-eXVWd"
      }
    },
    {
      "cell_type": "code",
      "source": [
        "predicted_labels = []\n",
        "for transcript in tqdm(test_dataset['Consumer complaint narrative'], desc=\"Predicting labels\"):\n",
        "    predicted_labels.append(fine_tune_classifier(transcript,\"dataset.jsonl\" ))"
      ],
      "metadata": {
        "colab": {
          "base_uri": "https://localhost:8080/"
        },
        "id": "PdGkGDxuhh71",
        "outputId": "8a63c891-6af3-44fc-829b-3b5cb54479d3"
      },
      "execution_count": 46,
      "outputs": [
        {
          "output_type": "stream",
          "name": "stderr",
          "text": [
            "Predicting labels: 100%|██████████| 141/141 [1:13:10<00:00, 31.14s/it]\n"
          ]
        }
      ]
    },
    {
      "cell_type": "code",
      "source": [
        "test_labels = test_dataset['Issue'].tolist()\n",
        "# Evaluation for fine-tuned classifier\n",
        "print(\"Accuracy for fine-tuned classifier:\", accuracy_score(test_labels, predicted_labels))\n",
        "print(\"\\nClassification Report:\\n\", classification_report(test_labels, predicted_labels))\n"
      ],
      "metadata": {
        "colab": {
          "base_uri": "https://localhost:8080/"
        },
        "id": "beM16sURbKoP",
        "outputId": "de3b5b06-1e45-433f-8cbc-83df70a93276"
      },
      "execution_count": 47,
      "outputs": [
        {
          "output_type": "stream",
          "name": "stdout",
          "text": [
            "Accuracy for fine-tuned classifier: 0.7021276595744681\n",
            "\n",
            "Classification Report:\n",
            "                                        precision    recall  f1-score   support\n",
            "\n",
            "       Account closure or restriction       0.00      0.00      0.00         0\n",
            "   Discrimination or unfair practices       0.00      0.00      0.00         0\n",
            "                        Fraud or scam       0.96      0.65      0.78        80\n",
            "Incorrect/missing disclosures or info       0.27      0.36      0.31        11\n",
            "Money was not available when promised       0.71      0.95      0.81        39\n",
            "     Wrong amount charged or received       0.33      0.55      0.41        11\n",
            "\n",
            "                             accuracy                           0.70       141\n",
            "                            macro avg       0.38      0.42      0.39       141\n",
            "                         weighted avg       0.79      0.70      0.72       141\n",
            "\n"
          ]
        },
        {
          "output_type": "stream",
          "name": "stderr",
          "text": [
            "/usr/local/lib/python3.10/dist-packages/sklearn/metrics/_classification.py:1471: UndefinedMetricWarning: Recall and F-score are ill-defined and being set to 0.0 in labels with no true samples. Use `zero_division` parameter to control this behavior.\n",
            "  _warn_prf(average, modifier, msg_start, len(result))\n",
            "/usr/local/lib/python3.10/dist-packages/sklearn/metrics/_classification.py:1471: UndefinedMetricWarning: Recall and F-score are ill-defined and being set to 0.0 in labels with no true samples. Use `zero_division` parameter to control this behavior.\n",
            "  _warn_prf(average, modifier, msg_start, len(result))\n",
            "/usr/local/lib/python3.10/dist-packages/sklearn/metrics/_classification.py:1471: UndefinedMetricWarning: Recall and F-score are ill-defined and being set to 0.0 in labels with no true samples. Use `zero_division` parameter to control this behavior.\n",
            "  _warn_prf(average, modifier, msg_start, len(result))\n"
          ]
        }
      ]
    },
    {
      "cell_type": "markdown",
      "source": [
        "# Analysis: Better data quality!\n",
        "\n",
        "\n",
        "```\n",
        "Accuracy for fine-tuned classifier: 0.7021276595744681\n",
        "\n",
        "Classification Report:\n",
        "                                        precision    recall  f1-score   support\n",
        "\n",
        "                        Fraud or scam       0.96      0.65      0.78        80\n",
        "Incorrect/missing disclosures or info       0.27      0.36      0.31        11\n",
        "Money was not available when promised       0.71      0.95      0.81        39\n",
        "     Wrong amount charged or received       0.33      0.55      0.41        11\n",
        "\n",
        "                             accuracy                           0.70       141\n",
        "                            macro avg       0.38      0.42      0.39       141\n",
        "                         weighted avg       0.79      0.70      0.72       141\n",
        "```\n",
        "\n",
        "The classifier's F1 scores and overall accuracy on the test cases were much better than the previous prompt classifier.\n",
        "\n",
        "The hypothesis about the distinctness of the language for different complaint categories seems to hold true here, with \"fraud or scam\" complaints reaching a top precision of 96%. It performed well categorizing \"money unavailable\" complaints too, generating the best F1-score for that category.\n",
        "\n",
        "However, the model performed poorly for the last 2 labels. Here are some potential reasons and improvement steps:\n",
        "\n",
        "1. Model was not properly fine-tuned. Although the model learns with the injected training dataset, a lightweight model like gpt 3 can be tuned with just the API.\n",
        "2. Bad examples used in fine-tuning. Could hand-pick good examples from each category. This is a little laborious, but would increase the quality of the fine tuning job."
      ],
      "metadata": {
        "id": "NauMRyPHcirr"
      }
    },
    {
      "cell_type": "markdown",
      "source": [
        "# Fine tuning gpt 3.5"
      ],
      "metadata": {
        "id": "uRjnOmrDiUYU"
      }
    },
    {
      "cell_type": "code",
      "source": [
        "!pip install --upgrade tiktoken"
      ],
      "metadata": {
        "colab": {
          "base_uri": "https://localhost:8080/"
        },
        "id": "GjUIG8UkirzG",
        "outputId": "42f4d053-e3d8-4b64-af32-4a3c5592943a"
      },
      "execution_count": 48,
      "outputs": [
        {
          "output_type": "stream",
          "name": "stdout",
          "text": [
            "Collecting tiktoken\n",
            "  Downloading tiktoken-0.7.0-cp310-cp310-manylinux_2_17_x86_64.manylinux2014_x86_64.whl.metadata (6.6 kB)\n",
            "Requirement already satisfied: regex>=2022.1.18 in /usr/local/lib/python3.10/dist-packages (from tiktoken) (2024.5.15)\n",
            "Requirement already satisfied: requests>=2.26.0 in /usr/local/lib/python3.10/dist-packages (from tiktoken) (2.31.0)\n",
            "Requirement already satisfied: charset-normalizer<4,>=2 in /usr/local/lib/python3.10/dist-packages (from requests>=2.26.0->tiktoken) (3.3.2)\n",
            "Requirement already satisfied: idna<4,>=2.5 in /usr/local/lib/python3.10/dist-packages (from requests>=2.26.0->tiktoken) (3.7)\n",
            "Requirement already satisfied: urllib3<3,>=1.21.1 in /usr/local/lib/python3.10/dist-packages (from requests>=2.26.0->tiktoken) (2.0.7)\n",
            "Requirement already satisfied: certifi>=2017.4.17 in /usr/local/lib/python3.10/dist-packages (from requests>=2.26.0->tiktoken) (2024.7.4)\n",
            "Downloading tiktoken-0.7.0-cp310-cp310-manylinux_2_17_x86_64.manylinux2014_x86_64.whl (1.1 MB)\n",
            "\u001b[2K   \u001b[90m━━━━━━━━━━━━━━━━━━━━━━━━━━━━━━━━━━━━━━━━\u001b[0m \u001b[32m1.1/1.1 MB\u001b[0m \u001b[31m4.4 MB/s\u001b[0m eta \u001b[36m0:00:00\u001b[0m\n",
            "\u001b[?25hInstalling collected packages: tiktoken\n",
            "Successfully installed tiktoken-0.7.0\n"
          ]
        }
      ]
    },
    {
      "cell_type": "code",
      "source": [
        "# check if a line of text exceeds a given number of tokens\n",
        "def exceeds_tokens(token_limit, input_text):\n",
        "  if len(encoding.encode(input_text)) < token_limit:\n",
        "    return input_text\n",
        "  else:\n",
        "    encoded_text = encoding.encode(input_text)\n",
        "    truncated_encoding = encoded_text[:4096]\n",
        "    decoded_text = encoding.decode(truncated_encoding)\n",
        "    return decoded_text"
      ],
      "metadata": {
        "id": "GeJ1LsY-iwKw"
      },
      "execution_count": 49,
      "outputs": []
    },
    {
      "cell_type": "code",
      "source": [
        "def train_test_validation_split(some_df, test_size=0.2, validation_size=0.2, random_state=None):\n",
        "    # First, split the data into training+validation and test sets\n",
        "    train_validation_dataset, test_dataset = train_test_split(some_df, test_size=test_size, random_state=random_state)\n",
        "\n",
        "    # Then split the training+validation set into training and validation sets\n",
        "    validation_size_adjusted = validation_size / (1 - test_size)\n",
        "    train_dataset, validation_dataset = train_test_split(train_validation_dataset, test_size=validation_size_adjusted, random_state=random_state )\n",
        "\n",
        "    return train_dataset, validation_dataset, test_dataset\n"
      ],
      "metadata": {
        "id": "MSp76VcBoEj0"
      },
      "execution_count": 51,
      "outputs": []
    },
    {
      "cell_type": "code",
      "source": [
        "# We want to make sure the content of each json entry is not over 4096 tokens.\n",
        "import tiktoken\n",
        "encoding = tiktoken.get_encoding(\"cl100k_base\")\n",
        "\n",
        "def format_fine_tune_jsonl(labeled_df, output_file):\n",
        "  jsonl_data = []\n",
        "  for index, row in labeled_df.iterrows():\n",
        "    # Assuming the dataset is comma-separated\n",
        "    user_message = row['Consumer complaint narrative']\n",
        "    truncated_message = exceeds_tokens(4096, user_message)\n",
        "\n",
        "    model_response = row[\"Issue\"]\n",
        "    conversation = [\n",
        "    {'role': 'system', 'content': raw_prompt},\n",
        "    {'role': 'user', 'content': truncated_message},\n",
        "    {'role': 'assistant', 'content': model_response}]\n",
        "    jsonl_data.append(json.dumps({\"messages\": conversation}))\n",
        "\n",
        "  with open(output_file, 'w', encoding='utf-8') as outfile:\n",
        "    outfile.write('\\n'.join(jsonl_data))"
      ],
      "metadata": {
        "id": "j8pac-4ohjGO"
      },
      "execution_count": 50,
      "outputs": []
    },
    {
      "cell_type": "code",
      "source": [
        "validation_dataset, test_dataset = train_test_split(test_dataset, test_size=0.8, random_state=None)"
      ],
      "metadata": {
        "id": "MbCRNoIcpP0R"
      },
      "execution_count": 56,
      "outputs": []
    },
    {
      "cell_type": "code",
      "source": [
        "training_file_name = 'train_dataset.jsonl'\n",
        "validation_file_name = 'validation_dataset.jsonl'\n",
        "\n",
        "format_fine_tune_jsonl(train_dataset,training_file_name)\n",
        "format_fine_tune_jsonl(validation_dataset,validation_file_name)"
      ],
      "metadata": {
        "id": "dySiCjy-qL9V"
      },
      "execution_count": 59,
      "outputs": []
    },
    {
      "cell_type": "code",
      "source": [
        "training_response = openai.File.create(\n",
        "    file=open(training_file_name, \"rb\"), purpose=\"fine-tune\"\n",
        ")\n",
        "training_file_id = training_response[\"id\"]\n",
        "\n",
        "validation_response = openai.File.create(\n",
        "    file=open(validation_file_name, \"rb\"), purpose=\"fine-tune\"\n",
        ")\n",
        "validation_file_id = validation_response[\"id\"]\n",
        "\n",
        "print(\"Training file id:\", training_file_id)\n",
        "print(\"Validation file id:\", validation_file_id)"
      ],
      "metadata": {
        "id": "S4uNMW3Uqysk"
      },
      "execution_count": null,
      "outputs": []
    },
    {
      "cell_type": "markdown",
      "source": [
        "# Further Exploration:\n",
        "1. Explore other fine tuning techniques like LoRA\n",
        "2. Look into using LLMs to make synthetic, labeled data (adversarial networks?)"
      ],
      "metadata": {
        "id": "Z8jXw4-jZbYl"
      }
    }
  ]
}