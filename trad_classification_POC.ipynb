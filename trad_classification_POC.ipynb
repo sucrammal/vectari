{
  "cells": [
    {
      "cell_type": "markdown",
      "metadata": {
        "id": "view-in-github",
        "colab_type": "text"
      },
      "source": [
        "<a href=\"https://colab.research.google.com/github/sucrammal/vectari/blob/BERT/trad_classification_POC.ipynb\" target=\"_parent\"><img src=\"https://colab.research.google.com/assets/colab-badge.svg\" alt=\"Open In Colab\"/></a>"
      ]
    },
    {
      "cell_type": "code",
      "execution_count": null,
      "metadata": {
        "colab": {
          "base_uri": "https://localhost:8080/"
        },
        "collapsed": true,
        "id": "v7u9DYN639AN",
        "outputId": "c7548f70-68d4-4579-a21a-5e539612eea2"
      },
      "outputs": [
        {
          "output_type": "stream",
          "name": "stdout",
          "text": [
            "Collecting openai\n",
            "  Downloading openai-1.33.0-py3-none-any.whl (325 kB)\n",
            "\u001b[2K     \u001b[90m━━━━━━━━━━━━━━━━━━━━━━━━━━━━━━━━━━━━━━━━\u001b[0m \u001b[32m325.5/325.5 kB\u001b[0m \u001b[31m2.2 MB/s\u001b[0m eta \u001b[36m0:00:00\u001b[0m\n",
            "\u001b[?25hRequirement already satisfied: anyio<5,>=3.5.0 in /usr/local/lib/python3.10/dist-packages (from openai) (3.7.1)\n",
            "Requirement already satisfied: distro<2,>=1.7.0 in /usr/lib/python3/dist-packages (from openai) (1.7.0)\n",
            "Collecting httpx<1,>=0.23.0 (from openai)\n",
            "  Downloading httpx-0.27.0-py3-none-any.whl (75 kB)\n",
            "\u001b[2K     \u001b[90m━━━━━━━━━━━━━━━━━━━━━━━━━━━━━━━━━━━━━━━━\u001b[0m \u001b[32m75.6/75.6 kB\u001b[0m \u001b[31m3.8 MB/s\u001b[0m eta \u001b[36m0:00:00\u001b[0m\n",
            "\u001b[?25hRequirement already satisfied: pydantic<3,>=1.9.0 in /usr/local/lib/python3.10/dist-packages (from openai) (2.7.3)\n",
            "Requirement already satisfied: sniffio in /usr/local/lib/python3.10/dist-packages (from openai) (1.3.1)\n",
            "Requirement already satisfied: tqdm>4 in /usr/local/lib/python3.10/dist-packages (from openai) (4.66.4)\n",
            "Requirement already satisfied: typing-extensions<5,>=4.7 in /usr/local/lib/python3.10/dist-packages (from openai) (4.12.1)\n",
            "Requirement already satisfied: idna>=2.8 in /usr/local/lib/python3.10/dist-packages (from anyio<5,>=3.5.0->openai) (3.7)\n",
            "Requirement already satisfied: exceptiongroup in /usr/local/lib/python3.10/dist-packages (from anyio<5,>=3.5.0->openai) (1.2.1)\n",
            "Requirement already satisfied: certifi in /usr/local/lib/python3.10/dist-packages (from httpx<1,>=0.23.0->openai) (2024.6.2)\n",
            "Collecting httpcore==1.* (from httpx<1,>=0.23.0->openai)\n",
            "  Downloading httpcore-1.0.5-py3-none-any.whl (77 kB)\n",
            "\u001b[2K     \u001b[90m━━━━━━━━━━━━━━━━━━━━━━━━━━━━━━━━━━━━━━━━\u001b[0m \u001b[32m77.9/77.9 kB\u001b[0m \u001b[31m7.5 MB/s\u001b[0m eta \u001b[36m0:00:00\u001b[0m\n",
            "\u001b[?25hCollecting h11<0.15,>=0.13 (from httpcore==1.*->httpx<1,>=0.23.0->openai)\n",
            "  Downloading h11-0.14.0-py3-none-any.whl (58 kB)\n",
            "\u001b[2K     \u001b[90m━━━━━━━━━━━━━━━━━━━━━━━━━━━━━━━━━━━━━━━━\u001b[0m \u001b[32m58.3/58.3 kB\u001b[0m \u001b[31m7.1 MB/s\u001b[0m eta \u001b[36m0:00:00\u001b[0m\n",
            "\u001b[?25hRequirement already satisfied: annotated-types>=0.4.0 in /usr/local/lib/python3.10/dist-packages (from pydantic<3,>=1.9.0->openai) (0.7.0)\n",
            "Requirement already satisfied: pydantic-core==2.18.4 in /usr/local/lib/python3.10/dist-packages (from pydantic<3,>=1.9.0->openai) (2.18.4)\n",
            "Installing collected packages: h11, httpcore, httpx, openai\n",
            "Successfully installed h11-0.14.0 httpcore-1.0.5 httpx-0.27.0 openai-1.33.0\n"
          ]
        }
      ],
      "source": [
        "!pip install openai"
      ]
    },
    {
      "cell_type": "code",
      "execution_count": null,
      "metadata": {
        "colab": {
          "base_uri": "https://localhost:8080/"
        },
        "collapsed": true,
        "id": "WxhqMJuEAQOU",
        "outputId": "da4935ab-b095-49a1-ddc9-e338d9bb704b"
      },
      "outputs": [
        {
          "output_type": "stream",
          "name": "stdout",
          "text": [
            "Requirement already satisfied: nltk in /usr/local/lib/python3.10/dist-packages (3.8.1)\n",
            "Requirement already satisfied: click in /usr/local/lib/python3.10/dist-packages (from nltk) (8.1.7)\n",
            "Requirement already satisfied: joblib in /usr/local/lib/python3.10/dist-packages (from nltk) (1.4.2)\n",
            "Requirement already satisfied: regex>=2021.8.3 in /usr/local/lib/python3.10/dist-packages (from nltk) (2024.5.15)\n",
            "Requirement already satisfied: tqdm in /usr/local/lib/python3.10/dist-packages (from nltk) (4.66.4)\n"
          ]
        }
      ],
      "source": [
        "!pip install nltk"
      ]
    },
    {
      "cell_type": "code",
      "source": [
        "!pip install transformers plotly torch torchvision scipy"
      ],
      "metadata": {
        "colab": {
          "base_uri": "https://localhost:8080/"
        },
        "id": "jSKFFZoDF7wW",
        "outputId": "08c742d6-cdb4-45e3-fffb-35c7117ee460",
        "collapsed": true
      },
      "execution_count": null,
      "outputs": [
        {
          "output_type": "stream",
          "name": "stdout",
          "text": [
            "Requirement already satisfied: transformers in /usr/local/lib/python3.10/dist-packages (4.41.2)\n",
            "Requirement already satisfied: plotly in /usr/local/lib/python3.10/dist-packages (5.15.0)\n",
            "Requirement already satisfied: torch in /usr/local/lib/python3.10/dist-packages (2.3.0+cu121)\n",
            "Requirement already satisfied: torchvision in /usr/local/lib/python3.10/dist-packages (0.18.0+cu121)\n",
            "Requirement already satisfied: scipy in /usr/local/lib/python3.10/dist-packages (1.11.4)\n",
            "Requirement already satisfied: filelock in /usr/local/lib/python3.10/dist-packages (from transformers) (3.14.0)\n",
            "Requirement already satisfied: huggingface-hub<1.0,>=0.23.0 in /usr/local/lib/python3.10/dist-packages (from transformers) (0.23.2)\n",
            "Requirement already satisfied: numpy>=1.17 in /usr/local/lib/python3.10/dist-packages (from transformers) (1.25.2)\n",
            "Requirement already satisfied: packaging>=20.0 in /usr/local/lib/python3.10/dist-packages (from transformers) (24.0)\n",
            "Requirement already satisfied: pyyaml>=5.1 in /usr/local/lib/python3.10/dist-packages (from transformers) (6.0.1)\n",
            "Requirement already satisfied: regex!=2019.12.17 in /usr/local/lib/python3.10/dist-packages (from transformers) (2024.5.15)\n",
            "Requirement already satisfied: requests in /usr/local/lib/python3.10/dist-packages (from transformers) (2.31.0)\n",
            "Requirement already satisfied: tokenizers<0.20,>=0.19 in /usr/local/lib/python3.10/dist-packages (from transformers) (0.19.1)\n",
            "Requirement already satisfied: safetensors>=0.4.1 in /usr/local/lib/python3.10/dist-packages (from transformers) (0.4.3)\n",
            "Requirement already satisfied: tqdm>=4.27 in /usr/local/lib/python3.10/dist-packages (from transformers) (4.66.4)\n",
            "Requirement already satisfied: tenacity>=6.2.0 in /usr/local/lib/python3.10/dist-packages (from plotly) (8.3.0)\n",
            "Requirement already satisfied: typing-extensions>=4.8.0 in /usr/local/lib/python3.10/dist-packages (from torch) (4.12.1)\n",
            "Requirement already satisfied: sympy in /usr/local/lib/python3.10/dist-packages (from torch) (1.12.1)\n",
            "Requirement already satisfied: networkx in /usr/local/lib/python3.10/dist-packages (from torch) (3.3)\n",
            "Requirement already satisfied: jinja2 in /usr/local/lib/python3.10/dist-packages (from torch) (3.1.4)\n",
            "Requirement already satisfied: fsspec in /usr/local/lib/python3.10/dist-packages (from torch) (2023.6.0)\n",
            "Collecting nvidia-cuda-nvrtc-cu12==12.1.105 (from torch)\n",
            "  Using cached nvidia_cuda_nvrtc_cu12-12.1.105-py3-none-manylinux1_x86_64.whl (23.7 MB)\n",
            "Collecting nvidia-cuda-runtime-cu12==12.1.105 (from torch)\n",
            "  Using cached nvidia_cuda_runtime_cu12-12.1.105-py3-none-manylinux1_x86_64.whl (823 kB)\n",
            "Collecting nvidia-cuda-cupti-cu12==12.1.105 (from torch)\n",
            "  Using cached nvidia_cuda_cupti_cu12-12.1.105-py3-none-manylinux1_x86_64.whl (14.1 MB)\n",
            "Collecting nvidia-cudnn-cu12==8.9.2.26 (from torch)\n",
            "  Using cached nvidia_cudnn_cu12-8.9.2.26-py3-none-manylinux1_x86_64.whl (731.7 MB)\n",
            "Collecting nvidia-cublas-cu12==12.1.3.1 (from torch)\n",
            "  Using cached nvidia_cublas_cu12-12.1.3.1-py3-none-manylinux1_x86_64.whl (410.6 MB)\n",
            "Collecting nvidia-cufft-cu12==11.0.2.54 (from torch)\n",
            "  Using cached nvidia_cufft_cu12-11.0.2.54-py3-none-manylinux1_x86_64.whl (121.6 MB)\n",
            "Collecting nvidia-curand-cu12==10.3.2.106 (from torch)\n",
            "  Using cached nvidia_curand_cu12-10.3.2.106-py3-none-manylinux1_x86_64.whl (56.5 MB)\n",
            "Collecting nvidia-cusolver-cu12==11.4.5.107 (from torch)\n",
            "  Using cached nvidia_cusolver_cu12-11.4.5.107-py3-none-manylinux1_x86_64.whl (124.2 MB)\n",
            "Collecting nvidia-cusparse-cu12==12.1.0.106 (from torch)\n",
            "  Using cached nvidia_cusparse_cu12-12.1.0.106-py3-none-manylinux1_x86_64.whl (196.0 MB)\n",
            "Collecting nvidia-nccl-cu12==2.20.5 (from torch)\n",
            "  Using cached nvidia_nccl_cu12-2.20.5-py3-none-manylinux2014_x86_64.whl (176.2 MB)\n",
            "Collecting nvidia-nvtx-cu12==12.1.105 (from torch)\n",
            "  Using cached nvidia_nvtx_cu12-12.1.105-py3-none-manylinux1_x86_64.whl (99 kB)\n",
            "Requirement already satisfied: triton==2.3.0 in /usr/local/lib/python3.10/dist-packages (from torch) (2.3.0)\n",
            "Collecting nvidia-nvjitlink-cu12 (from nvidia-cusolver-cu12==11.4.5.107->torch)\n",
            "  Downloading nvidia_nvjitlink_cu12-12.5.40-py3-none-manylinux2014_x86_64.whl (21.3 MB)\n",
            "\u001b[2K     \u001b[90m━━━━━━━━━━━━━━━━━━━━━━━━━━━━━━━━━━━━━━━━\u001b[0m \u001b[32m21.3/21.3 MB\u001b[0m \u001b[31m39.0 MB/s\u001b[0m eta \u001b[36m0:00:00\u001b[0m\n",
            "\u001b[?25hRequirement already satisfied: pillow!=8.3.*,>=5.3.0 in /usr/local/lib/python3.10/dist-packages (from torchvision) (9.4.0)\n",
            "Requirement already satisfied: MarkupSafe>=2.0 in /usr/local/lib/python3.10/dist-packages (from jinja2->torch) (2.1.5)\n",
            "Requirement already satisfied: charset-normalizer<4,>=2 in /usr/local/lib/python3.10/dist-packages (from requests->transformers) (3.3.2)\n",
            "Requirement already satisfied: idna<4,>=2.5 in /usr/local/lib/python3.10/dist-packages (from requests->transformers) (3.7)\n",
            "Requirement already satisfied: urllib3<3,>=1.21.1 in /usr/local/lib/python3.10/dist-packages (from requests->transformers) (2.0.7)\n",
            "Requirement already satisfied: certifi>=2017.4.17 in /usr/local/lib/python3.10/dist-packages (from requests->transformers) (2024.6.2)\n",
            "Requirement already satisfied: mpmath<1.4.0,>=1.1.0 in /usr/local/lib/python3.10/dist-packages (from sympy->torch) (1.3.0)\n",
            "Installing collected packages: nvidia-nvtx-cu12, nvidia-nvjitlink-cu12, nvidia-nccl-cu12, nvidia-curand-cu12, nvidia-cufft-cu12, nvidia-cuda-runtime-cu12, nvidia-cuda-nvrtc-cu12, nvidia-cuda-cupti-cu12, nvidia-cublas-cu12, nvidia-cusparse-cu12, nvidia-cudnn-cu12, nvidia-cusolver-cu12\n",
            "Successfully installed nvidia-cublas-cu12-12.1.3.1 nvidia-cuda-cupti-cu12-12.1.105 nvidia-cuda-nvrtc-cu12-12.1.105 nvidia-cuda-runtime-cu12-12.1.105 nvidia-cudnn-cu12-8.9.2.26 nvidia-cufft-cu12-11.0.2.54 nvidia-curand-cu12-10.3.2.106 nvidia-cusolver-cu12-11.4.5.107 nvidia-cusparse-cu12-12.1.0.106 nvidia-nccl-cu12-2.20.5 nvidia-nvjitlink-cu12-12.5.40 nvidia-nvtx-cu12-12.1.105\n"
          ]
        }
      ]
    },
    {
      "cell_type": "code",
      "execution_count": null,
      "metadata": {
        "collapsed": true,
        "id": "k9MuDhuL4Ess",
        "colab": {
          "base_uri": "https://localhost:8080/"
        },
        "outputId": "9fc3efd3-973a-4096-986a-a21fa19d7903"
      },
      "outputs": [
        {
          "output_type": "stream",
          "name": "stderr",
          "text": [
            "[nltk_data] Downloading package punkt to /root/nltk_data...\n",
            "[nltk_data]   Unzipping tokenizers/punkt.zip.\n",
            "[nltk_data] Downloading package wordnet to /root/nltk_data...\n",
            "[nltk_data] Downloading package omw-1.4 to /root/nltk_data...\n"
          ]
        },
        {
          "output_type": "stream",
          "name": "stdout",
          "text": [
            "Mounted at /content/drive\n"
          ]
        }
      ],
      "source": [
        "# Basic Imports\n",
        "import pandas as pd\n",
        "import numpy as np\n",
        "from tqdm import tqdm\n",
        "import os\n",
        "\n",
        "# openAI\n",
        "import openai\n",
        "from openai import AzureOpenAI\n",
        "\n",
        "# NLTK imports\n",
        "import nltk\n",
        "from nltk.tokenize import sent_tokenize, word_tokenize\n",
        "from nltk.stem import *\n",
        "\n",
        "# skl imports\n",
        "from sklearn.feature_extraction.text import CountVectorizer\n",
        "from sklearn.model_selection import train_test_split\n",
        "from sklearn.metrics import accuracy_score\n",
        "from sklearn.cluster import KMeans\n",
        "from sklearn.neighbors import KNeighborsClassifier\n",
        "from sklearn.neighbors import NearestNeighbors\n",
        "from sklearn.ensemble import RandomForestClassifier\n",
        "from sklearn.metrics import classification_report, accuracy_score\n",
        "from mlxtend.plotting import plot_decision_regions\n",
        "\n",
        "\n",
        "nltk.download('punkt')\n",
        "nltk.download('wordnet')\n",
        "nltk.download('omw-1.4')\n",
        "\n",
        "from google.colab import drive\n",
        "drive.mount('/content/drive')\n",
        "\n",
        "import string\n",
        "\n",
        "STOPWORD_SET = {'t', 'xxxx', 'XXXX', 'xx/xx/xxxx', 'xx/xx', 'their', 'should', \"doesn't\", 'under', 'wasn', 'on', 'needn', 'hadn', 'out', 'against', 'to', 'ours', 'them', 'was', 'then', 'few', 'after', 'can', 'over', \"weren't\", 'during', 'a', 'an', 'until', 'has', 'no', 'hers', 'only', \"you've\", \"aren't\", \"didn't\", 'me', 'if', 'which', \"wasn't\", 'does', 'these', 'how', 'll', 'for', 'because', 'm', 'ma', 'won', \"you'll\", 'yourselves', 'haven', 'were', 'he', 'is', 'each', 'why', 'you', 'did', 'yourself', 'from', 'been', 'more', 's', \"hasn't\", 'above', 'with', 'o', 'below', 'aren', 'it', 'now', 'ourselves', 'so', 'here', 'do', 'up', \"it's\", 'most', 'i', 'himself', 'y', 'we', 'again', 'yours', 'both', 'further', \"isn't\", 'and', 'than', 'of', 'hasn', 'into', 'or', \"should've\", 'whom', 'this', 'are', 'weren', 'what', \"wouldn't\", 're', 'she', 'herself', \"you'd\", 'same', 'having', 'by', 'where', 'they', 'off', 'about', 'shouldn', 'my', 'shan', 'as', 'isn', \"mustn't\", 'am', 'own', 'wouldn', 'those', \"haven't\", 'while', 'his', \"that'll\", 'between', 'its', 'but', 'being', 'itself', 'be', \"needn't\", 'don', 'at', 'mightn', 'doing', \"you're\", \"she's\", 'down', 'just', 'him', 'ain', 'mustn', 'theirs', 'very', \"shan't\", 'will', \"hadn't\", 'through', 'couldn', 'such', \"won't\", 'who', 'doesn', 've', 'when', 'not', 'myself', 'there', 'had', 'nor', 'other', \"don't\", 'her', \"shouldn't\", 'd', 'too', 'any', 'our', 'in', 'that', 'all', 'didn', 'themselves', 'before', 'the', \"couldn't\", 'your', \"mightn't\", 'once', 'some', 'have'}\n",
        "PREPOSITIONS = [\n",
        "    \"aboard\", \"about\", \"above\", \"across\", \"after\", \"against\", \"along\", \"amid\", \"among\",\n",
        "    \"anti\", \"around\", \"as\", \"at\", \"before\", \"behind\", \"below\", \"beneath\", \"beside\",\n",
        "    \"besides\", \"between\", \"beyond\", \"but\", \"by\", \"concerning\", \"considering\", \"despite\",\n",
        "    \"down\", \"during\", \"except\", \"excepting\", \"excluding\", \"following\", \"for\", \"from\",\n",
        "    \"in\", \"inside\", \"into\", \"like\", \"minus\", \"near\", \"of\", \"off\", \"on\", \"onto\", \"opposite\",\n",
        "    \"outside\", \"over\", \"past\", \"per\", \"plus\", \"regarding\", \"round\", \"save\", \"since\", \"than\",\n",
        "    \"through\", \"to\", \"toward\", \"towards\", \"under\", \"underneath\", \"unlike\", \"until\", \"up\",\n",
        "    \"upon\", \"versus\", \"via\", \"with\", \"within\", \"without\"\n",
        "]"
      ]
    },
    {
      "cell_type": "code",
      "execution_count": null,
      "metadata": {
        "colab": {
          "base_uri": "https://localhost:8080/"
        },
        "id": "MDu1cSrnENBo",
        "outputId": "1a134d9a-de7c-47c9-9981-9d0cf2f81f9d"
      },
      "outputs": [
        {
          "output_type": "stream",
          "name": "stdout",
          "text": [
            "https://oai-vectari-eastus2.openai.azure.com/\n"
          ]
        }
      ],
      "source": [
        "from google.colab import userdata\n",
        "\n",
        "# Setting up API\n",
        "gpt_config = {\n",
        "    'model': 'gpt-4-vectari-1106preview',\n",
        "    'azure_endpoint': 'https://oai-vectari-eastus2.openai.azure.com/',\n",
        "    'api_key': userdata.get('openAPIKey'),\n",
        "    'api_version': '2023-12-01-preview'\n",
        "}\n",
        "\n",
        "# gpt_config = {\n",
        "#     'model': 'gpt-35-turbo',\n",
        "#     'azure_endpoint': 'https://oai-vectari-northcentral-us.openai.azure.com/',\n",
        "#     'api_key': userdata.get('openAPIKey3.5'),\n",
        "#     'api_version': '2024-02-15-preview'\n",
        "# }\n",
        "\n",
        "print(gpt_config['azure_endpoint'])\n",
        "\n",
        "client = AzureOpenAI(\n",
        "  azure_endpoint = gpt_config['azure_endpoint'],\n",
        "  api_key = gpt_config['api_key'],\n",
        "  api_version = gpt_config['api_version']\n",
        ")"
      ]
    },
    {
      "cell_type": "markdown",
      "metadata": {
        "id": "wlN684Hyrei1"
      },
      "source": [
        "# **Data Preprocessing:**\n",
        "I'll be using chatGPT to clean up transcripts, and then use some classic NLP techniques to clean the sentences by tokenizing them, getting rid of stopwords, stem the words, and rid of punctuation."
      ]
    },
    {
      "cell_type": "code",
      "execution_count": null,
      "metadata": {
        "id": "hu4lKQ28Gd3d"
      },
      "outputs": [],
      "source": [
        "# gpt prompt to clean up and summarize the transcript.\n",
        "\n",
        "system = \"\"\"You will receive a transcript of a phone call between a call center agent at a mortgage servicing company and a customer/borrower.\n",
        "The transcription text is also low quality. These are calls about financial services and we have seen some text completely out of place.  For instance 'the first drug was fixed, and any drug after that was gonna be viral' should pretty clearly be\n",
        "'the first rate was fixed, and any rate after that was going to be variable'.\n",
        "Your job is to parse the text and using your natural language understanding and contextual awareness, please re-write the transcript and clean any grammar / things that do not make sense in financial use cases.\n",
        "Additionally, remove any unwanted 'x's, 'xxxx's, any other similar phrases representing redaction, and simply any text or numbers that aren't words. Remove any dates, names, and otherwise sensitive information. After the response is generated, remove all full stops, commas, semicolons, colons, and quotation marks.\n",
        "\"\"\""
      ]
    },
    {
      "cell_type": "code",
      "execution_count": null,
      "metadata": {
        "collapsed": true,
        "id": "n0drfjXY4GJJ"
      },
      "outputs": [],
      "source": [
        "# instantiate input file\n",
        "all_complaints = pd.read_csv(\"/content/drive/MyDrive/Internships and Work/Summer 2024/Vectari/data/money_transfer_complaints.csv\")"
      ]
    },
    {
      "cell_type": "code",
      "execution_count": null,
      "metadata": {
        "collapsed": true,
        "id": "_5y70fh64nMA",
        "colab": {
          "base_uri": "https://localhost:8080/"
        },
        "outputId": "44170883-442c-4d34-eb5d-684684a320ab"
      },
      "outputs": [
        {
          "output_type": "execute_result",
          "data": {
            "text/plain": [
              "1497"
            ]
          },
          "metadata": {},
          "execution_count": 9
        }
      ],
      "source": [
        "# extract complaints with transcripts\n",
        "complaints_with_transcripts = all_complaints.loc[all_complaints[\"Consumer complaint narrative\"].notna()]\n",
        "complaints_with_transcripts.shape[0]"
      ]
    },
    {
      "cell_type": "code",
      "execution_count": null,
      "metadata": {
        "id": "aDVUd4kwJWvf"
      },
      "outputs": [],
      "source": [
        "LLM_complaints = complaints_with_transcripts[['Issue']].copy()\n",
        "LLM_complaints['Consumer complaint narrative'] = \"\""
      ]
    },
    {
      "cell_type": "markdown",
      "metadata": {
        "id": "vnsfSm6sA5Qx"
      },
      "source": [
        "**Functions to cleanup individual transcripts**"
      ]
    },
    {
      "cell_type": "code",
      "execution_count": null,
      "metadata": {
        "id": "qyxPHPSVZ7zM"
      },
      "outputs": [],
      "source": [
        "def LLM_cleanup(transcript):\n",
        "  messages = [\n",
        "    {\n",
        "        \"role\":\"system\",\n",
        "        \"content\": system\n",
        "    },\n",
        "    {\n",
        "        \"role\":\"user\",\n",
        "        \"content\":f'\"\"\"{transcript}\"\"\"'\n",
        "    }\n",
        "  ]\n",
        "\n",
        "  response = client.chat.completions.create(\n",
        "      model=gpt_config['model'],\n",
        "      messages = messages\n",
        "  )\n",
        "\n",
        "  LLM_cleaned_sample = response.choices[0].message.content\n",
        "  return LLM_cleaned_sample"
      ]
    },
    {
      "cell_type": "code",
      "execution_count": null,
      "metadata": {
        "id": "2VkKsZ-abQPB"
      },
      "outputs": [],
      "source": [
        "def NL_cleanup(LLM_cleaned_sample):\n",
        "  # remove punctuation\n",
        "  for punctuation in string.punctuation:\n",
        "    LLM_cleaned_sample = LLM_cleaned_sample.replace(punctuation, '')\n",
        "\n",
        "  # tokenize\n",
        "  tokenized_sample = word_tokenize(LLM_cleaned_sample)\n",
        "\n",
        "  # Remove stopwords and stem words\n",
        "  stemmer = PorterStemmer()\n",
        "  wnl = WordNetLemmatizer()\n",
        "\n",
        "  removed_stopwords_sample = []\n",
        "\n",
        "  # Remove prepositions from STOPWORD_SET\n",
        "  filtered_stopwords = STOPWORD_SET - set(PREPOSITIONS)\n",
        "\n",
        "  for word in tokenized_sample:\n",
        "    if word not in filtered_stopwords and not word.isdigit() :\n",
        "      word = word.lower()\n",
        "      # Sometimes, stemming a word ending in 'e' will just get rid of the e. Here is a quick but rough fix\n",
        "      wnl.lemmatize(word) if wnl.lemmatize(word).endswith('e') else stemmer.stem(word)\n",
        "      removed_stopwords_sample.append(word)\n",
        "\n",
        "  cleaned_sentence = \" \".join(removed_stopwords_sample)\n",
        "\n",
        "  return cleaned_sentence\n"
      ]
    },
    {
      "cell_type": "code",
      "execution_count": null,
      "metadata": {
        "cellView": "form",
        "collapsed": true,
        "id": "G90EB23ZdrS4"
      },
      "outputs": [],
      "source": [
        "#@markdown Testing the above helper functions\n",
        "# use the written functions!\n",
        "cleaned_sample_1 = NL_cleanup(LLM_cleanup(complaints_with_transcripts.iloc[0][\"Consumer complaint narrative\"]))\n",
        "cleaned_sample_2 = NL_cleanup(LLM_cleanup(complaints_with_transcripts.iloc[8][\"Consumer complaint narrative\"]))\n",
        "\n",
        "print(cleaned_sample_2)\n",
        "\n",
        "train_text_sample = [cleaned_sample_1, cleaned_sample_2]\n",
        "train_label_sample = [complaints_with_transcripts.iloc[0][\"Issue\"], complaints_with_transcripts.iloc[1][\"Issue\"]]\n",
        "\n",
        "# Sample vectorization\n",
        "vectorizer = CountVectorizer()\n",
        "\n",
        "vectorizer = CountVectorizer()\n",
        "vectorizer.fit(train_text_sample)\n",
        "train_vect = vectorizer.transform(train_text_sample)\n",
        "print(train_vect)"
      ]
    },
    {
      "cell_type": "markdown",
      "metadata": {
        "id": "6OeMXQFQEsmQ"
      },
      "source": [
        "**Now process ALL transcripts**"
      ]
    },
    {
      "cell_type": "code",
      "execution_count": null,
      "metadata": {
        "collapsed": true,
        "id": "x1nRzE7thO38",
        "colab": {
          "base_uri": "https://localhost:8080/",
          "height": 507
        },
        "outputId": "27502e88-a107-46ed-db19-3b263736626e"
      },
      "outputs": [
        {
          "output_type": "stream",
          "name": "stderr",
          "text": [
            "LLM transcript cleaning: 100%|██████████| 1497/1497 [3:34:27<00:00,  8.60s/it]\n"
          ]
        },
        {
          "output_type": "error",
          "ename": "KeyError",
          "evalue": "0",
          "traceback": [
            "\u001b[0;31m---------------------------------------------------------------------------\u001b[0m",
            "\u001b[0;31mKeyError\u001b[0m                                  Traceback (most recent call last)",
            "\u001b[0;32m/usr/local/lib/python3.10/dist-packages/pandas/core/indexes/base.py\u001b[0m in \u001b[0;36mget_loc\u001b[0;34m(self, key)\u001b[0m\n\u001b[1;32m   3652\u001b[0m         \u001b[0;32mtry\u001b[0m\u001b[0;34m:\u001b[0m\u001b[0;34m\u001b[0m\u001b[0;34m\u001b[0m\u001b[0m\n\u001b[0;32m-> 3653\u001b[0;31m             \u001b[0;32mreturn\u001b[0m \u001b[0mself\u001b[0m\u001b[0;34m.\u001b[0m\u001b[0m_engine\u001b[0m\u001b[0;34m.\u001b[0m\u001b[0mget_loc\u001b[0m\u001b[0;34m(\u001b[0m\u001b[0mcasted_key\u001b[0m\u001b[0;34m)\u001b[0m\u001b[0;34m\u001b[0m\u001b[0;34m\u001b[0m\u001b[0m\n\u001b[0m\u001b[1;32m   3654\u001b[0m         \u001b[0;32mexcept\u001b[0m \u001b[0mKeyError\u001b[0m \u001b[0;32mas\u001b[0m \u001b[0merr\u001b[0m\u001b[0;34m:\u001b[0m\u001b[0;34m\u001b[0m\u001b[0;34m\u001b[0m\u001b[0m\n",
            "\u001b[0;32m/usr/local/lib/python3.10/dist-packages/pandas/_libs/index.pyx\u001b[0m in \u001b[0;36mpandas._libs.index.IndexEngine.get_loc\u001b[0;34m()\u001b[0m\n",
            "\u001b[0;32m/usr/local/lib/python3.10/dist-packages/pandas/_libs/index.pyx\u001b[0m in \u001b[0;36mpandas._libs.index.IndexEngine.get_loc\u001b[0;34m()\u001b[0m\n",
            "\u001b[0;32mpandas/_libs/hashtable_class_helper.pxi\u001b[0m in \u001b[0;36mpandas._libs.hashtable.Int64HashTable.get_item\u001b[0;34m()\u001b[0m\n",
            "\u001b[0;32mpandas/_libs/hashtable_class_helper.pxi\u001b[0m in \u001b[0;36mpandas._libs.hashtable.Int64HashTable.get_item\u001b[0;34m()\u001b[0m\n",
            "\u001b[0;31mKeyError\u001b[0m: 0",
            "\nThe above exception was the direct cause of the following exception:\n",
            "\u001b[0;31mKeyError\u001b[0m                                  Traceback (most recent call last)",
            "\u001b[0;32m<ipython-input-50-41c948b4792b>\u001b[0m in \u001b[0;36m<cell line: 13>\u001b[0;34m()\u001b[0m\n\u001b[1;32m     12\u001b[0m \u001b[0;31m# Then, NLP cleanup\u001b[0m\u001b[0;34m\u001b[0m\u001b[0;34m\u001b[0m\u001b[0m\n\u001b[1;32m     13\u001b[0m \u001b[0;32mfor\u001b[0m \u001b[0mindex\u001b[0m \u001b[0;32min\u001b[0m \u001b[0mrange\u001b[0m\u001b[0;34m(\u001b[0m\u001b[0mcomplaints_with_transcripts\u001b[0m\u001b[0;34m.\u001b[0m\u001b[0mshape\u001b[0m\u001b[0;34m[\u001b[0m\u001b[0;36m0\u001b[0m\u001b[0;34m]\u001b[0m\u001b[0;34m)\u001b[0m\u001b[0;34m:\u001b[0m\u001b[0;34m\u001b[0m\u001b[0;34m\u001b[0m\u001b[0m\n\u001b[0;32m---> 14\u001b[0;31m   \u001b[0mcleaned_sentences\u001b[0m\u001b[0;34m.\u001b[0m\u001b[0mappend\u001b[0m\u001b[0;34m(\u001b[0m\u001b[0mNL_cleanup\u001b[0m\u001b[0;34m(\u001b[0m\u001b[0mLLM_cleaned_sentences\u001b[0m\u001b[0;34m[\u001b[0m\u001b[0mindex\u001b[0m\u001b[0;34m]\u001b[0m\u001b[0;34m)\u001b[0m\u001b[0;34m)\u001b[0m\u001b[0;34m\u001b[0m\u001b[0;34m\u001b[0m\u001b[0m\n\u001b[0m\u001b[1;32m     15\u001b[0m \u001b[0;34m\u001b[0m\u001b[0m\n\u001b[1;32m     16\u001b[0m \u001b[0mcleaned_dataset\u001b[0m \u001b[0;34m=\u001b[0m \u001b[0mpd\u001b[0m\u001b[0;34m.\u001b[0m\u001b[0mDataFrame\u001b[0m\u001b[0;34m(\u001b[0m\u001b[0;34m{\u001b[0m\u001b[0;34m'Consumer complaint narrative'\u001b[0m\u001b[0;34m:\u001b[0m \u001b[0mcleaned_sentences\u001b[0m\u001b[0;34m,\u001b[0m \u001b[0;34m'Issue'\u001b[0m\u001b[0;34m:\u001b[0m \u001b[0mall_labels\u001b[0m\u001b[0;34m}\u001b[0m\u001b[0;34m)\u001b[0m\u001b[0;34m\u001b[0m\u001b[0;34m\u001b[0m\u001b[0m\n",
            "\u001b[0;32m/usr/local/lib/python3.10/dist-packages/pandas/core/series.py\u001b[0m in \u001b[0;36m__getitem__\u001b[0;34m(self, key)\u001b[0m\n\u001b[1;32m   1005\u001b[0m \u001b[0;34m\u001b[0m\u001b[0m\n\u001b[1;32m   1006\u001b[0m         \u001b[0;32melif\u001b[0m \u001b[0mkey_is_scalar\u001b[0m\u001b[0;34m:\u001b[0m\u001b[0;34m\u001b[0m\u001b[0;34m\u001b[0m\u001b[0m\n\u001b[0;32m-> 1007\u001b[0;31m             \u001b[0;32mreturn\u001b[0m \u001b[0mself\u001b[0m\u001b[0;34m.\u001b[0m\u001b[0m_get_value\u001b[0m\u001b[0;34m(\u001b[0m\u001b[0mkey\u001b[0m\u001b[0;34m)\u001b[0m\u001b[0;34m\u001b[0m\u001b[0;34m\u001b[0m\u001b[0m\n\u001b[0m\u001b[1;32m   1008\u001b[0m \u001b[0;34m\u001b[0m\u001b[0m\n\u001b[1;32m   1009\u001b[0m         \u001b[0;32mif\u001b[0m \u001b[0mis_hashable\u001b[0m\u001b[0;34m(\u001b[0m\u001b[0mkey\u001b[0m\u001b[0;34m)\u001b[0m\u001b[0;34m:\u001b[0m\u001b[0;34m\u001b[0m\u001b[0;34m\u001b[0m\u001b[0m\n",
            "\u001b[0;32m/usr/local/lib/python3.10/dist-packages/pandas/core/series.py\u001b[0m in \u001b[0;36m_get_value\u001b[0;34m(self, label, takeable)\u001b[0m\n\u001b[1;32m   1114\u001b[0m \u001b[0;34m\u001b[0m\u001b[0m\n\u001b[1;32m   1115\u001b[0m         \u001b[0;31m# Similar to Index.get_value, but we do not fall back to positional\u001b[0m\u001b[0;34m\u001b[0m\u001b[0;34m\u001b[0m\u001b[0m\n\u001b[0;32m-> 1116\u001b[0;31m         \u001b[0mloc\u001b[0m \u001b[0;34m=\u001b[0m \u001b[0mself\u001b[0m\u001b[0;34m.\u001b[0m\u001b[0mindex\u001b[0m\u001b[0;34m.\u001b[0m\u001b[0mget_loc\u001b[0m\u001b[0;34m(\u001b[0m\u001b[0mlabel\u001b[0m\u001b[0;34m)\u001b[0m\u001b[0;34m\u001b[0m\u001b[0;34m\u001b[0m\u001b[0m\n\u001b[0m\u001b[1;32m   1117\u001b[0m \u001b[0;34m\u001b[0m\u001b[0m\n\u001b[1;32m   1118\u001b[0m         \u001b[0;32mif\u001b[0m \u001b[0mis_integer\u001b[0m\u001b[0;34m(\u001b[0m\u001b[0mloc\u001b[0m\u001b[0;34m)\u001b[0m\u001b[0;34m:\u001b[0m\u001b[0;34m\u001b[0m\u001b[0;34m\u001b[0m\u001b[0m\n",
            "\u001b[0;32m/usr/local/lib/python3.10/dist-packages/pandas/core/indexes/base.py\u001b[0m in \u001b[0;36mget_loc\u001b[0;34m(self, key)\u001b[0m\n\u001b[1;32m   3653\u001b[0m             \u001b[0;32mreturn\u001b[0m \u001b[0mself\u001b[0m\u001b[0;34m.\u001b[0m\u001b[0m_engine\u001b[0m\u001b[0;34m.\u001b[0m\u001b[0mget_loc\u001b[0m\u001b[0;34m(\u001b[0m\u001b[0mcasted_key\u001b[0m\u001b[0;34m)\u001b[0m\u001b[0;34m\u001b[0m\u001b[0;34m\u001b[0m\u001b[0m\n\u001b[1;32m   3654\u001b[0m         \u001b[0;32mexcept\u001b[0m \u001b[0mKeyError\u001b[0m \u001b[0;32mas\u001b[0m \u001b[0merr\u001b[0m\u001b[0;34m:\u001b[0m\u001b[0;34m\u001b[0m\u001b[0;34m\u001b[0m\u001b[0m\n\u001b[0;32m-> 3655\u001b[0;31m             \u001b[0;32mraise\u001b[0m \u001b[0mKeyError\u001b[0m\u001b[0;34m(\u001b[0m\u001b[0mkey\u001b[0m\u001b[0;34m)\u001b[0m \u001b[0;32mfrom\u001b[0m \u001b[0merr\u001b[0m\u001b[0;34m\u001b[0m\u001b[0;34m\u001b[0m\u001b[0m\n\u001b[0m\u001b[1;32m   3656\u001b[0m         \u001b[0;32mexcept\u001b[0m \u001b[0mTypeError\u001b[0m\u001b[0;34m:\u001b[0m\u001b[0;34m\u001b[0m\u001b[0;34m\u001b[0m\u001b[0m\n\u001b[1;32m   3657\u001b[0m             \u001b[0;31m# If we have a listlike key, _check_indexing_error will raise\u001b[0m\u001b[0;34m\u001b[0m\u001b[0;34m\u001b[0m\u001b[0m\n",
            "\u001b[0;31mKeyError\u001b[0m: 0"
          ]
        }
      ],
      "source": [
        "# Run this to clean transcipts from scratch.\n",
        "LLM_cleaned_sentences = []\n",
        "cleaned_sentences = []\n",
        "all_labels = complaints_with_transcripts['Issue']\n",
        "\n",
        "# First, LLM cleanup\n",
        "tqdm.pandas(desc=\"LLM transcript cleaning\")\n",
        "LLM_cleaned_sentences = complaints_with_transcripts[\"Consumer complaint narrative\"].progress_apply(lambda x : LLM_cleanup(x))\n",
        "# for index in range(complaints_with_transcripts.shape[0]):\n",
        "#   LLM_cleaned_sentences.append(LLM_cleanup(complaints_with_transcripts.iloc[index][\"Consumer complaint narrative\"]))\n",
        "\n",
        "# Then, NLP cleanup\n",
        "for index in range(complaints_with_transcripts.shape[0]):\n",
        "  cleaned_sentences.append(NL_cleanup(LLM_cleaned_sentences[index]))\n",
        "\n",
        "cleaned_dataset = pd.DataFrame({'Consumer complaint narrative': cleaned_sentences, 'Issue': all_labels})"
      ]
    },
    {
      "cell_type": "code",
      "execution_count": null,
      "metadata": {
        "id": "JtUEray9Umc8",
        "colab": {
          "base_uri": "https://localhost:8080/"
        },
        "outputId": "f8e2d236-482e-40b6-e278-49fa96b02a9c"
      },
      "outputs": [
        {
          "output_type": "stream",
          "name": "stdout",
          "text": [
            "cp: cannot stat 'out.csv': No such file or directory\n"
          ]
        }
      ],
      "source": [
        "# optional: export cleaned data to a CSV.\n",
        "cleaned_dataset.to_csv('all_cleaned.csv', index=False)\n",
        "!cp out.csv \"/content/drive/MyDrive/Internships and Work/Summer 2024/Vectari/data\""
      ]
    },
    {
      "cell_type": "code",
      "execution_count": null,
      "metadata": {
        "id": "RWII8hiN20uU",
        "colab": {
          "base_uri": "https://localhost:8080/"
        },
        "outputId": "8b78c44f-f25e-44d3-de12-079c3a9ec173"
      },
      "outputs": [
        {
          "output_type": "stream",
          "name": "stdout",
          "text": [
            "cp: cannot stat 'out.csv': No such file or directory\n"
          ]
        }
      ],
      "source": [
        "# optional: export LLM cleaned data (without NL preprocessing) to a CSV\n",
        "LLM_cleaned_dataset = pd.DataFrame({'Consumer complaint narrative': LLM_cleaned_sentences, 'Issue': all_labels})\n",
        "cleaned_dataset.to_csv('LLM_cleaned.csv', index=False)\n",
        "!cp out.csv \"/content/drive/MyDrive/Internships and Work/Summer 2024/Vectari/data\""
      ]
    },
    {
      "cell_type": "code",
      "execution_count": null,
      "metadata": {
        "id": "5VVk5d_ofy0J",
        "colab": {
          "base_uri": "https://localhost:8080/"
        },
        "outputId": "a1030963-7d78-4f19-cec9-7d034929c0ed"
      },
      "outputs": [
        {
          "name": "stdout",
          "output_type": "stream",
          "text": [
            "Enter a file name that exists in the Data folder: /content/drive/MyDrive/Internships and Work/Summer 2024/Vectari/data/out_v2.csv\n"
          ]
        }
      ],
      "source": [
        "# Run this instead to use a pre-cleaned CSV transcript.\n",
        "input_file = input(\"Enter a file name that exists in the Data folder: \")\n",
        "cleaned_dataset = pd.DataFrame()\n",
        "\n",
        "with open(input_file, 'r') as file:\n",
        "    cleaned_dataset = pd.read_csv(file)"
      ]
    },
    {
      "cell_type": "code",
      "execution_count": null,
      "metadata": {
        "collapsed": true,
        "id": "Wg_JGH2tIa0b",
        "cellView": "form"
      },
      "outputs": [],
      "source": [
        "# @markdown  Following hiddencode blocks are hard-coded, unfactored trials.\n",
        "# use chatGPT to clean up all transcripts.\n",
        "# use LLM get summarized and cleaned up transcript.\n",
        "for idx in range(complaints_with_transcripts.shape[0]):\n",
        "  input_text = complaints_with_transcripts.iloc[idx][\"Consumer complaint narrative\"]\n",
        "\n",
        "  messages = [\n",
        "      {\n",
        "          \"role\":\"system\",\n",
        "          \"content\": system\n",
        "      },\n",
        "      {\n",
        "          \"role\":\"user\",\n",
        "          \"content\":f'\"\"\"{input_text}\"\"\"'\n",
        "      }\n",
        "  ]\n",
        "\n",
        "  response = client.chat.completions.create(\n",
        "      model=gpt_config['model'],\n",
        "      messages = messages\n",
        "  )\n",
        "\n",
        "  LLM_complaints['Consumer complaint narrative'][idx] = response.choices[0].message.content\n",
        "\n",
        "cleaned_complaints = complaints_with_transcripts[['Issue']].copy()\n",
        "cleaned_complaints['Consumer complaint narrative'] = \"\"\n",
        "\n",
        "# tokenize, stem, and remove stopwords from the transcripts\n",
        "# cleaned_complaints = complaints_with_transcripts[[\"Issue\", \"Consumer complaint narrative\"]]\n",
        "stemmer = PorterStemmer()\n",
        "\n",
        "for i in range(LLM_complaints.shape[0]):\n",
        "  current_transcript = LLM_complaints.iloc[i][\"Consumer complaint narrative\"]\n",
        "  tokenized = word_tokenize(current_transcript)\n",
        "  cleaned = []\n",
        "  for j in range(len(tokenized)):\n",
        "    if tokenized[j] not in STOPWORD_SET:\n",
        "      cleaned.append(stemmer.stem(tokenized[j]))\n",
        "\n",
        "  cleaned_complaints[\"Consumer complaint narrative\"][i] = cleaned\n",
        "\n"
      ]
    },
    {
      "cell_type": "code",
      "execution_count": null,
      "metadata": {
        "cellView": "form",
        "collapsed": true,
        "id": "XFiCAzx44rhl"
      },
      "outputs": [],
      "source": [
        "#@markdown Additional quick data analysis\n",
        "# aggregate data via \"Issue\" type to build bag of words for each category.\n",
        "issue_groups = complaints_with_transcripts.groupby(\"Issue\")\n",
        "\n",
        "# identify unique \"Issue\" labels\n",
        "issue_counts = complaints_with_transcripts['Issue'].value_counts()\n",
        "print(\"\\nNumber of entries under each 'Issue' type:\")\n",
        "print(issue_counts)"
      ]
    },
    {
      "cell_type": "markdown",
      "metadata": {
        "id": "gsfHdLV1r6SH"
      },
      "source": [
        "# **Training a k-nearest neighbors model on the cleaned BOW dataset**\n"
      ]
    },
    {
      "cell_type": "code",
      "execution_count": null,
      "metadata": {
        "id": "1mvNGX9RpNoI"
      },
      "outputs": [],
      "source": [
        "# Vectorize training data\n",
        "\n",
        "vectorizer = CountVectorizer()\n",
        "X_count_vect = vectorizer.fit_transform(cleaned_dataset['Consumer complaint narrative'])\n",
        "y_count_vect = cleaned_dataset['Issue']\n",
        "\n",
        "train_sentences_count_vect, test_sentences_count_vect, train_labels_count_vect, test_labels_count_vect = train_test_split(X_count_vect, y_count_vect ,random_state=104, test_size=0.25, shuffle=True)"
      ]
    },
    {
      "cell_type": "code",
      "source": [
        "# Instead of the above: Ada-2 embeddings. Moving away from traditional embeddings.\n",
        "\n",
        "def get_embedding(input):\n",
        "  response = client.embeddings.create(\n",
        "      input = \"Your text string goes here\",\n",
        "      model= \"vectari-ada-sandbox-eastus2\"\n",
        "  )\n",
        "\n",
        "  return response.data[0].embedding\n",
        "\n",
        "\n",
        "tqdm.pandas(desc=\"Azure Embeddings Progress\")\n",
        "X = cleaned_dataset['Consumer complaint narrative'].progress_apply(lambda x : get_embedding(x))\n",
        "X = np.array(X.tolist())\n",
        "y = cleaned_dataset['Issue']"
      ],
      "metadata": {
        "colab": {
          "base_uri": "https://localhost:8080/"
        },
        "id": "bwzUxw1ajA7Z",
        "outputId": "46ff2dc3-8a2c-4ac3-a59a-4b81e216b164"
      },
      "execution_count": null,
      "outputs": [
        {
          "output_type": "stream",
          "name": "stderr",
          "text": [
            "Azure Embeddings Progress: 100%|██████████| 1497/1497 [01:52<00:00, 13.28it/s]\n"
          ]
        }
      ]
    },
    {
      "cell_type": "code",
      "source": [
        "# train test split. X are features, y are labels\n",
        "train_sentences, test_sentences, train_labels, test_labels = train_test_split(X, y ,random_state=104, test_size=0.25, shuffle=True)"
      ],
      "metadata": {
        "id": "aOcG-dsJc8l7"
      },
      "execution_count": null,
      "outputs": []
    },
    {
      "cell_type": "code",
      "execution_count": null,
      "metadata": {
        "collapsed": true,
        "id": "67W70adjbjOh",
        "colab": {
          "base_uri": "https://localhost:8080/"
        },
        "outputId": "7ae3a531-1d8d-414d-d7d0-d0cd5d84dbc3"
      },
      "outputs": [
        {
          "output_type": "stream",
          "name": "stdout",
          "text": [
            "Accuracy: 0.30666666666666664\n",
            "\n",
            "Classification Report:\n",
            "                                        precision    recall  f1-score   support\n",
            "\n",
            "                        Fraud or scam       0.00      0.00      0.00       139\n",
            "Incorrect/missing disclosures or info       0.00      0.00      0.00        15\n",
            "Money was not available when promised       0.00      0.00      0.00        58\n",
            "                 Other service issues       0.00      0.00      0.00        30\n",
            "             Other transaction issues       0.31      1.00      0.47       115\n",
            "     Wrong amount charged or received       0.00      0.00      0.00        18\n",
            "\n",
            "                             accuracy                           0.31       375\n",
            "                            macro avg       0.05      0.17      0.08       375\n",
            "                         weighted avg       0.09      0.31      0.14       375\n",
            "\n"
          ]
        },
        {
          "output_type": "stream",
          "name": "stderr",
          "text": [
            "/usr/local/lib/python3.10/dist-packages/sklearn/metrics/_classification.py:1344: UndefinedMetricWarning: Precision and F-score are ill-defined and being set to 0.0 in labels with no predicted samples. Use `zero_division` parameter to control this behavior.\n",
            "  _warn_prf(average, modifier, msg_start, len(result))\n",
            "/usr/local/lib/python3.10/dist-packages/sklearn/metrics/_classification.py:1344: UndefinedMetricWarning: Precision and F-score are ill-defined and being set to 0.0 in labels with no predicted samples. Use `zero_division` parameter to control this behavior.\n",
            "  _warn_prf(average, modifier, msg_start, len(result))\n",
            "/usr/local/lib/python3.10/dist-packages/sklearn/metrics/_classification.py:1344: UndefinedMetricWarning: Precision and F-score are ill-defined and being set to 0.0 in labels with no predicted samples. Use `zero_division` parameter to control this behavior.\n",
            "  _warn_prf(average, modifier, msg_start, len(result))\n"
          ]
        }
      ],
      "source": [
        "# Training the k-NN model\n",
        "knn_model = KNeighborsClassifier(n_neighbors=6)\n",
        "knn_model.fit(train_sentences, train_labels)\n",
        "\n",
        "# Predicting and evaluating the model\n",
        "predicted_labels_knn = knn_model.predict(test_sentences)\n",
        "\n",
        "# Evaluation\n",
        "print(\"Accuracy:\", accuracy_score(test_labels, predicted_labels_knn))\n",
        "print(\"\\nClassification Report:\\n\", classification_report(test_labels, predicted_labels_knn))\n",
        "\n"
      ]
    },
    {
      "cell_type": "code",
      "execution_count": null,
      "metadata": {
        "id": "47YDUa3EjidX",
        "colab": {
          "base_uri": "https://localhost:8080/"
        },
        "outputId": "79a6a45e-ecd4-4b02-98b4-ea4ed537a3a3"
      },
      "outputs": [
        {
          "output_type": "stream",
          "name": "stdout",
          "text": [
            "Accuracy: 0.368\n",
            "\n",
            "Classification Report:\n",
            "                                        precision    recall  f1-score   support\n",
            "\n",
            "                        Fraud or scam       0.37      0.99      0.54       139\n",
            "Incorrect/missing disclosures or info       0.00      0.00      0.00        15\n",
            "Money was not available when promised       0.00      0.00      0.00        58\n",
            "                 Other service issues       0.00      0.00      0.00        30\n",
            "             Other transaction issues       0.00      0.00      0.00       115\n",
            "     Wrong amount charged or received       0.00      0.00      0.00        18\n",
            "\n",
            "                             accuracy                           0.37       375\n",
            "                            macro avg       0.06      0.17      0.09       375\n",
            "                         weighted avg       0.14      0.37      0.20       375\n",
            "\n"
          ]
        },
        {
          "output_type": "stream",
          "name": "stderr",
          "text": [
            "/usr/local/lib/python3.10/dist-packages/sklearn/metrics/_classification.py:1344: UndefinedMetricWarning: Precision and F-score are ill-defined and being set to 0.0 in labels with no predicted samples. Use `zero_division` parameter to control this behavior.\n",
            "  _warn_prf(average, modifier, msg_start, len(result))\n",
            "/usr/local/lib/python3.10/dist-packages/sklearn/metrics/_classification.py:1344: UndefinedMetricWarning: Precision and F-score are ill-defined and being set to 0.0 in labels with no predicted samples. Use `zero_division` parameter to control this behavior.\n",
            "  _warn_prf(average, modifier, msg_start, len(result))\n",
            "/usr/local/lib/python3.10/dist-packages/sklearn/metrics/_classification.py:1344: UndefinedMetricWarning: Precision and F-score are ill-defined and being set to 0.0 in labels with no predicted samples. Use `zero_division` parameter to control this behavior.\n",
            "  _warn_prf(average, modifier, msg_start, len(result))\n"
          ]
        }
      ],
      "source": [
        "# Training a random forest classifier model\n",
        "rf_model = RandomForestClassifier(n_estimators=100, random_state=42)\n",
        "rf_model.fit(train_sentences, train_labels)\n",
        "\n",
        "# Predicting and evaluating the model\n",
        "predicted_labels_rf = rf_model.predict(test_sentences)\n",
        "\n",
        "# Evaluation\n",
        "print(\"Accuracy:\", accuracy_score(test_labels, predicted_labels_rf))\n",
        "print(\"\\nClassification Report:\\n\", classification_report(test_labels, predicted_labels_rf))"
      ]
    },
    {
      "cell_type": "code",
      "execution_count": null,
      "metadata": {
        "id": "ZIp6gYO9rasG",
        "colab": {
          "base_uri": "https://localhost:8080/",
          "height": 774
        },
        "outputId": "57cae4bd-d0ad-478d-8bf9-22d14f7b4285"
      },
      "outputs": [
        {
          "output_type": "stream",
          "name": "stderr",
          "text": [
            "/usr/local/lib/python3.10/dist-packages/sklearn/cluster/_kmeans.py:870: FutureWarning: The default value of `n_init` will change from 10 to 'auto' in 1.4. Set the value of `n_init` explicitly to suppress the warning\n",
            "  warnings.warn(\n"
          ]
        },
        {
          "output_type": "display_data",
          "data": {
            "text/plain": [
              "<Figure size 1200x800 with 2 Axes>"
            ],
            "image/png": "[encoded data removed]"
          },
          "metadata": {}
        }
      ],
      "source": [
        "import matplotlib.pyplot as plt\n",
        "from sklearn.manifold import TSNE\n",
        "\n",
        "# k-means for visualization\n",
        "num_clusters = 6\n",
        "kmeans = KMeans(n_clusters=num_clusters, random_state=42)\n",
        "kmeans.fit(X)\n",
        "clusters = kmeans.predict(X)\n",
        "\n",
        "# Assuming 'X' is the NumPy array containing your high-dimensional embeddings\n",
        "# and 'clusters' contains the corresponding cluster labels\n",
        "\n",
        "# Reduce dimensions to 2D\n",
        "tsne = TSNE(n_components=2, random_state=42)\n",
        "X_reduced = tsne.fit_transform(X)\n",
        "\n",
        "\n",
        "# Plotting the clusters in 2D\n",
        "plt.figure(figsize=(12, 8))\n",
        "scatter = plt.scatter(X_reduced[:, 0], X_reduced[:, 1], c=clusters, cmap='viridis', alpha=0.6)\n",
        "plt.colorbar(scatter)\n",
        "plt.title('Consumer Complaints Clustered (2D representation)')\n",
        "plt.xlabel('TSNE Component 1')\n",
        "plt.ylabel('TSNE Component 2')\n",
        "plt.show()"
      ]
    },
    {
      "cell_type": "code",
      "execution_count": null,
      "metadata": {
        "id": "Eyalf2Ve4iPY"
      },
      "outputs": [],
      "source": [
        "def knn_comparison(data, k):\n",
        "  X = vectorizer.fit_transform(cleaned_dataset['Consumer complaint narrative'])\n",
        "  tsne = TSNE(n_components=2, random_state=42)\n",
        "  X_reduced = tsne.fit_transform(X.toarray())\n",
        "\n",
        "  Y = cleaned_dataset['Issue']\n",
        "  clf = KNeighborsClassifier(n_neighbors=k)\n",
        "  clf.fit(X_reduced,Y)\n",
        "\n",
        "  # Plotting decision region\n",
        "  plot_decision_regions(X_reduced, Y, clf=clf, legend=2)\n",
        "  plt.show()\n"
      ]
    }
  ],
  "metadata": {
    "colab": {
      "provenance": [],
      "include_colab_link": true
    },
    "kernelspec": {
      "display_name": "Python 3",
      "name": "python3"
    },
    "language_info": {
      "name": "python"
    }
  },
  "nbformat": 4,
  "nbformat_minor": 0
}