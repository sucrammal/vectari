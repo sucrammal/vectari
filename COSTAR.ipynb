{
  "nbformat": 4,
  "nbformat_minor": 0,
  "metadata": {
    "colab": {
      "provenance": [],
      "authorship_tag": "ABX9TyMZG34Eyg4be0+yQW/t4r34",
      "include_colab_link": true
    },
    "kernelspec": {
      "name": "python3",
      "display_name": "Python 3"
    },
    "language_info": {
      "name": "python"
    }
  },
  "cells": [
    {
      "cell_type": "markdown",
      "metadata": {
        "id": "view-in-github",
        "colab_type": "text"
      },
      "source": [
        "<a href=\"https://colab.research.google.com/github/sucrammal/vectari/blob/main/COSTAR.ipynb\" target=\"_parent\"><img src=\"https://colab.research.google.com/assets/colab-badge.svg\" alt=\"Open In Colab\"/></a>"
      ]
    },
    {
      "cell_type": "code",
      "source": [
        "!pip install nltk openai"
      ],
      "metadata": {
        "colab": {
          "base_uri": "https://localhost:8080/"
        },
        "id": "LGNp0_496d4D",
        "outputId": "8eaf530d-0c27-4877-f76b-296dac2f8a7a",
        "collapsed": true
      },
      "execution_count": 1,
      "outputs": [
        {
          "output_type": "stream",
          "name": "stdout",
          "text": [
            "Requirement already satisfied: nltk in /usr/local/lib/python3.10/dist-packages (3.8.1)\n",
            "Collecting openai\n",
            "  Downloading openai-1.34.0-py3-none-any.whl (325 kB)\n",
            "\u001b[2K     \u001b[90m━━━━━━━━━━━━━━━━━━━━━━━━━━━━━━━━━━━━━━━━\u001b[0m \u001b[32m325.5/325.5 kB\u001b[0m \u001b[31m3.9 MB/s\u001b[0m eta \u001b[36m0:00:00\u001b[0m\n",
            "\u001b[?25hRequirement already satisfied: click in /usr/local/lib/python3.10/dist-packages (from nltk) (8.1.7)\n",
            "Requirement already satisfied: joblib in /usr/local/lib/python3.10/dist-packages (from nltk) (1.4.2)\n",
            "Requirement already satisfied: regex>=2021.8.3 in /usr/local/lib/python3.10/dist-packages (from nltk) (2024.5.15)\n",
            "Requirement already satisfied: tqdm in /usr/local/lib/python3.10/dist-packages (from nltk) (4.66.4)\n",
            "Requirement already satisfied: anyio<5,>=3.5.0 in /usr/local/lib/python3.10/dist-packages (from openai) (3.7.1)\n",
            "Requirement already satisfied: distro<2,>=1.7.0 in /usr/lib/python3/dist-packages (from openai) (1.7.0)\n",
            "Collecting httpx<1,>=0.23.0 (from openai)\n",
            "  Downloading httpx-0.27.0-py3-none-any.whl (75 kB)\n",
            "\u001b[2K     \u001b[90m━━━━━━━━━━━━━━━━━━━━━━━━━━━━━━━━━━━━━━━━\u001b[0m \u001b[32m75.6/75.6 kB\u001b[0m \u001b[31m3.5 MB/s\u001b[0m eta \u001b[36m0:00:00\u001b[0m\n",
            "\u001b[?25hRequirement already satisfied: pydantic<3,>=1.9.0 in /usr/local/lib/python3.10/dist-packages (from openai) (2.7.3)\n",
            "Requirement already satisfied: sniffio in /usr/local/lib/python3.10/dist-packages (from openai) (1.3.1)\n",
            "Requirement already satisfied: typing-extensions<5,>=4.7 in /usr/local/lib/python3.10/dist-packages (from openai) (4.12.2)\n",
            "Requirement already satisfied: idna>=2.8 in /usr/local/lib/python3.10/dist-packages (from anyio<5,>=3.5.0->openai) (3.7)\n",
            "Requirement already satisfied: exceptiongroup in /usr/local/lib/python3.10/dist-packages (from anyio<5,>=3.5.0->openai) (1.2.1)\n",
            "Requirement already satisfied: certifi in /usr/local/lib/python3.10/dist-packages (from httpx<1,>=0.23.0->openai) (2024.6.2)\n",
            "Collecting httpcore==1.* (from httpx<1,>=0.23.0->openai)\n",
            "  Downloading httpcore-1.0.5-py3-none-any.whl (77 kB)\n",
            "\u001b[2K     \u001b[90m━━━━━━━━━━━━━━━━━━━━━━━━━━━━━━━━━━━━━━━━\u001b[0m \u001b[32m77.9/77.9 kB\u001b[0m \u001b[31m3.4 MB/s\u001b[0m eta \u001b[36m0:00:00\u001b[0m\n",
            "\u001b[?25hCollecting h11<0.15,>=0.13 (from httpcore==1.*->httpx<1,>=0.23.0->openai)\n",
            "  Downloading h11-0.14.0-py3-none-any.whl (58 kB)\n",
            "\u001b[2K     \u001b[90m━━━━━━━━━━━━━━━━━━━━━━━━━━━━━━━━━━━━━━━━\u001b[0m \u001b[32m58.3/58.3 kB\u001b[0m \u001b[31m4.3 MB/s\u001b[0m eta \u001b[36m0:00:00\u001b[0m\n",
            "\u001b[?25hRequirement already satisfied: annotated-types>=0.4.0 in /usr/local/lib/python3.10/dist-packages (from pydantic<3,>=1.9.0->openai) (0.7.0)\n",
            "Requirement already satisfied: pydantic-core==2.18.4 in /usr/local/lib/python3.10/dist-packages (from pydantic<3,>=1.9.0->openai) (2.18.4)\n",
            "Installing collected packages: h11, httpcore, httpx, openai\n",
            "Successfully installed h11-0.14.0 httpcore-1.0.5 httpx-0.27.0 openai-1.34.0\n"
          ]
        }
      ]
    },
    {
      "cell_type": "code",
      "source": [
        "!pip install tqdm"
      ],
      "metadata": {
        "colab": {
          "base_uri": "https://localhost:8080/"
        },
        "id": "CaKwD_u353eN",
        "outputId": "28aa1f5e-bd14-4d27-b86b-e9d8aef393f2"
      },
      "execution_count": 22,
      "outputs": [
        {
          "output_type": "stream",
          "name": "stdout",
          "text": [
            "Requirement already satisfied: tqdm in /usr/local/lib/python3.10/dist-packages (4.66.4)\n"
          ]
        }
      ]
    },
    {
      "cell_type": "code",
      "source": [
        "!pip install ipdb"
      ],
      "metadata": {
        "colab": {
          "base_uri": "https://localhost:8080/"
        },
        "id": "IKFmr5fQN9yn",
        "outputId": "089a315c-cb2a-4467-8989-9f7bc19033a3"
      },
      "execution_count": 64,
      "outputs": [
        {
          "output_type": "stream",
          "name": "stdout",
          "text": [
            "Collecting ipdb\n",
            "  Downloading ipdb-0.13.13-py3-none-any.whl (12 kB)\n",
            "Requirement already satisfied: ipython>=7.31.1 in /usr/local/lib/python3.10/dist-packages (from ipdb) (7.34.0)\n",
            "Requirement already satisfied: tomli in /usr/local/lib/python3.10/dist-packages (from ipdb) (2.0.1)\n",
            "Requirement already satisfied: decorator in /usr/local/lib/python3.10/dist-packages (from ipdb) (4.4.2)\n",
            "Requirement already satisfied: setuptools>=18.5 in /usr/local/lib/python3.10/dist-packages (from ipython>=7.31.1->ipdb) (67.7.2)\n",
            "Collecting jedi>=0.16 (from ipython>=7.31.1->ipdb)\n",
            "  Downloading jedi-0.19.1-py2.py3-none-any.whl (1.6 MB)\n",
            "\u001b[2K     \u001b[90m━━━━━━━━━━━━━━━━━━━━━━━━━━━━━━━━━━━━━━━━\u001b[0m \u001b[32m1.6/1.6 MB\u001b[0m \u001b[31m16.8 MB/s\u001b[0m eta \u001b[36m0:00:00\u001b[0m\n",
            "\u001b[?25hRequirement already satisfied: pickleshare in /usr/local/lib/python3.10/dist-packages (from ipython>=7.31.1->ipdb) (0.7.5)\n",
            "Requirement already satisfied: traitlets>=4.2 in /usr/local/lib/python3.10/dist-packages (from ipython>=7.31.1->ipdb) (5.7.1)\n",
            "Requirement already satisfied: prompt-toolkit!=3.0.0,!=3.0.1,<3.1.0,>=2.0.0 in /usr/local/lib/python3.10/dist-packages (from ipython>=7.31.1->ipdb) (3.0.47)\n",
            "Requirement already satisfied: pygments in /usr/local/lib/python3.10/dist-packages (from ipython>=7.31.1->ipdb) (2.16.1)\n",
            "Requirement already satisfied: backcall in /usr/local/lib/python3.10/dist-packages (from ipython>=7.31.1->ipdb) (0.2.0)\n",
            "Requirement already satisfied: matplotlib-inline in /usr/local/lib/python3.10/dist-packages (from ipython>=7.31.1->ipdb) (0.1.7)\n",
            "Requirement already satisfied: pexpect>4.3 in /usr/local/lib/python3.10/dist-packages (from ipython>=7.31.1->ipdb) (4.9.0)\n",
            "Requirement already satisfied: parso<0.9.0,>=0.8.3 in /usr/local/lib/python3.10/dist-packages (from jedi>=0.16->ipython>=7.31.1->ipdb) (0.8.4)\n",
            "Requirement already satisfied: ptyprocess>=0.5 in /usr/local/lib/python3.10/dist-packages (from pexpect>4.3->ipython>=7.31.1->ipdb) (0.7.0)\n",
            "Requirement already satisfied: wcwidth in /usr/local/lib/python3.10/dist-packages (from prompt-toolkit!=3.0.0,!=3.0.1,<3.1.0,>=2.0.0->ipython>=7.31.1->ipdb) (0.2.13)\n",
            "Installing collected packages: jedi, ipdb\n",
            "Successfully installed ipdb-0.13.13 jedi-0.19.1\n"
          ]
        }
      ]
    },
    {
      "cell_type": "code",
      "execution_count": 65,
      "metadata": {
        "colab": {
          "base_uri": "https://localhost:8080/"
        },
        "id": "ZVW-fFFA6O7u",
        "outputId": "dc13a4b4-ae59-4c4a-fc7e-7a799ad438d9"
      },
      "outputs": [
        {
          "output_type": "stream",
          "name": "stderr",
          "text": [
            "[nltk_data] Downloading package punkt to /root/nltk_data...\n",
            "[nltk_data]   Package punkt is already up-to-date!\n",
            "[nltk_data] Downloading package stopwords to /root/nltk_data...\n",
            "[nltk_data]   Package stopwords is already up-to-date!\n"
          ]
        },
        {
          "output_type": "stream",
          "name": "stdout",
          "text": [
            "Drive already mounted at /content/drive; to attempt to forcibly remount, call drive.mount(\"/content/drive\", force_remount=True).\n"
          ]
        }
      ],
      "source": [
        "import pandas as pd\n",
        "import openai\n",
        "from openai import AzureOpenAI\n",
        "from tqdm import tqdm\n",
        "import re\n",
        "from sklearn.model_selection import train_test_split\n",
        "\n",
        "import ipdb\n",
        "\n",
        "import nltk\n",
        "from nltk.corpus import stopwords\n",
        "from nltk.tokenize import word_tokenize\n",
        "from nltk.stem import *\n",
        "\n",
        "nltk.download('punkt')\n",
        "nltk.download('stopwords')\n",
        "\n",
        "from google.colab import drive\n",
        "drive.mount('/content/drive')\n",
        "\n"
      ]
    },
    {
      "cell_type": "code",
      "source": [
        "from google.colab import userdata\n",
        "\n",
        "# Setting up API\n",
        "gpt_config = {\n",
        "    'model': 'gpt-4-vectari-1106preview',\n",
        "    'azure_endpoint': 'https://oai-vectari-eastus2.openai.azure.com/',\n",
        "    'api_key': userdata.get('openAPIKey'),\n",
        "    'api_version': '2023-12-01-preview'\n",
        "}\n",
        "\n",
        "# gpt_config = {\n",
        "#     'model': 'gpt-35-turbo',\n",
        "#     'azure_endpoint': 'https://oai-vectari-northcentral-us.openai.azure.com/',\n",
        "#     'api_key': userdata.get('openAPIKey3.5'),\n",
        "#     'api_version': '2024-02-15-preview'\n",
        "# }\n",
        "\n",
        "print(gpt_config['azure_endpoint'])\n",
        "\n",
        "client = AzureOpenAI(\n",
        "  azure_endpoint = gpt_config['azure_endpoint'],\n",
        "  api_key = gpt_config['api_key'],\n",
        "  api_version = gpt_config['api_version']\n",
        ")"
      ],
      "metadata": {
        "id": "09Fss_ip3L50",
        "colab": {
          "base_uri": "https://localhost:8080/"
        },
        "outputId": "8fd33266-c5e3-404d-8e3a-92f8a4b205a1"
      },
      "execution_count": 6,
      "outputs": [
        {
          "output_type": "stream",
          "name": "stdout",
          "text": [
            "https://oai-vectari-eastus2.openai.azure.com/\n"
          ]
        }
      ]
    },
    {
      "cell_type": "markdown",
      "source": [
        "**Load data**"
      ],
      "metadata": {
        "id": "MeZv1DIs-Cgb"
      }
    },
    {
      "cell_type": "code",
      "source": [
        "# instantiate input file from scratch.\n",
        "input_file = input(\"Enter file path of raw dataset\")\n",
        "with open(input_file, 'r') as file:\n",
        "  all_complaints = pd.read_csv(file)\n",
        "\n",
        "# extract complaints with transcripts\n",
        "complaints_with_transcripts = all_complaints.loc[all_complaints[\"Consumer complaint narrative\"].notna()]\n",
        "complaints_with_transcripts.shape[0]"
      ],
      "metadata": {
        "id": "VsjHta14-CSI"
      },
      "execution_count": null,
      "outputs": []
    },
    {
      "cell_type": "code",
      "source": [
        "# load LLM pre-cleaned transcripts from csv\n",
        "input_file = input(\"Enter a file name that exists in the Data folder: \")\n",
        "cleaned_dataset = pd.DataFrame()\n",
        "\n",
        "with open(input_file, 'r') as file:\n",
        "    cleaned_dataset = pd.read_csv(file)"
      ],
      "metadata": {
        "id": "H-uT4cSc-VIz",
        "colab": {
          "base_uri": "https://localhost:8080/"
        },
        "outputId": "6d3bbe07-c1e9-4b02-d69e-eff617f13ea1"
      },
      "execution_count": 37,
      "outputs": [
        {
          "name": "stdout",
          "output_type": "stream",
          "text": [
            "Enter a file name that exists in the Data folder: /content/drive/MyDrive/Internships and Work/Summer 2024/Vectari/out/LLM_cleaned.csv\n"
          ]
        }
      ]
    },
    {
      "cell_type": "markdown",
      "source": [
        "**This function uses the LLM to clean incoming transcripts**"
      ],
      "metadata": {
        "id": "1Wu4dg3_4-3N"
      }
    },
    {
      "cell_type": "code",
      "source": [
        "cleaning_system = \"\"\"\n",
        "CONTEXT: You will receive a transcript of a phone call between a call center agent at a mortgage servicing company and a customer/borrower. You need to clean this transcript.\n",
        "\n",
        "#############\n",
        "\n",
        "OBJECTIVE: Your first job is to clean the incoming low-quality transcripts from the first dataset. These are calls about financial services and we have seen some text completely out of place.  For instance 'the first drug was fixed, and any drug after that was gonna be viral' should pretty clearly be\n",
        "'the first rate was fixed, and any rate after that was going to be variable'.\n",
        "Your job is to parse the text and using your natural language understanding and contextual awareness, please re-write the transcript and clean any grammar / things that do not make sense in financial use cases.\n",
        "Additionally, remove any unwanted 'x's, 'xxxx's, any other similar phrases representing redaction, and simply any text or numbers that aren't words. Remove any dates, names, and otherwise sensitive information. After the response is generated, remove all full stops, commas, semicolons, colons, and quotation marks.\n",
        "\n",
        "#############\n",
        "\n",
        "# STYLE #\n",
        "Financial complaint transcript\n",
        "\n",
        "#############\n",
        "\n",
        "# TONE #\n",
        "Professional, technical\n",
        "\n",
        "#############\n",
        "\n",
        "# AUDIENCE #\n",
        "Banks. I want accurate classification so that they will adopt this methodology to help organize their complaints database.\n",
        "\n",
        "#############\n",
        "\n",
        "# RESPONSE: A PARAGRAPH OF TEXT #\n",
        "\"\"\""
      ],
      "metadata": {
        "id": "aNj7O92w2_o9"
      },
      "execution_count": 10,
      "outputs": []
    },
    {
      "cell_type": "markdown",
      "source": [
        "**Then, applying the cleaning function, ask the LLM to cluster the data**"
      ],
      "metadata": {
        "id": "szbm2_Sq5D9N"
      }
    },
    {
      "cell_type": "code",
      "source": [
        "def clean_transcript(transcript):\n",
        "  messages = [\n",
        "    {\n",
        "        \"role\":\"system\",\n",
        "        \"content\": cleaning_system\n",
        "    },\n",
        "    {\n",
        "        \"role\":\"user\",\n",
        "        \"content\":f'\"\"\"{transcript}\"\"\"'\n",
        "    }\n",
        "  ]\n",
        "\n",
        "  response = client.chat.completions.create(\n",
        "      model=gpt_config['model'],\n",
        "      messages = messages\n",
        "  )\n",
        "\n",
        "  LLM_cleaned_sample = response.choices[0].message.content\n",
        "  return LLM_cleaned_sample"
      ],
      "metadata": {
        "id": "mqOHWXUp7faM"
      },
      "execution_count": 11,
      "outputs": []
    },
    {
      "cell_type": "code",
      "source": [
        "cluster_system = \"\"\"\n",
        "CONTEXT: You will now be recieving a large text containing transcripts of phone calls between a call center agent at a mortgage servicing company and a customer/borrower. Individual transcripts\n",
        "are separated by two newline characters, \"\\n\\n\", from one another. This large text represents a CLUSTER of transcripts that have been categorized based on content under some label, for example, \"fraud or scam\".\n",
        "\n",
        "#############\n",
        "\n",
        "OBJECTIVE:\n",
        "Based on the cluster you have received,\n",
        "1. CLUSTER_INFORMATION: Describe the cluster in terms of the dataset columns.\n",
        "2. CLUSTER_CATEGORY_NAME: Interpret [CLUSTER_INFORMATION] to obtain a short name for the category of the transcripts in this cluster.\n",
        "\n",
        "#############\n",
        "\n",
        "# STYLE #\n",
        "Business analytics report\n",
        "\n",
        "#############\n",
        "\n",
        "# TONE #\n",
        "Professional, technical\n",
        "\n",
        "#############\n",
        "\n",
        "# AUDIENCE #\n",
        "Banks. I want accurate classification so that they will adopt this methodology to help organize their complaints database.\n",
        "\n",
        "#############\n",
        "\n",
        "# RESPONSE: MARKDOWN REPORT #\n",
        "<From processing the CLUSTER you have made>\n",
        "– Complaint Group: [CLUSTER_CATEGORY_NAME]\n",
        "— Complaint Group Profile: [CLUSTER_INFORMATION]\n",
        "\n",
        "\"\"\""
      ],
      "metadata": {
        "id": "pmH3w5Y85xoy"
      },
      "execution_count": 83,
      "outputs": []
    },
    {
      "cell_type": "code",
      "source": [
        "def cluster_complaints(cleaned_dataset):\n",
        "    clusters = cleaned_dataset.groupby('Issue')\n",
        "    cluster_info = {}\n",
        "\n",
        "    for label, group in tqdm(clusters, desc=\"Creating clusters\"):\n",
        "        # Collect all transcripts in this cluster\n",
        "        transcripts = group['Consumer complaint narrative'].tolist()\n",
        "\n",
        "        # Weird error. Passing the full, unsplit dataset through this function worked.\n",
        "        # But, passing a train set (from train_test_split) would crash since a value in transcripts would somehow not be a string.\n",
        "        filtered_list = [s for s in transcripts if isinstance(s, str)]\n",
        "\n",
        "        # Extract keywords and name cluster group.\n",
        "        all_transcripts_joined = \"\\n\\n\".join(filtered_list)\n",
        "\n",
        "\n",
        "        messages = [\n",
        "          {\n",
        "              \"role\":\"system\",\n",
        "              \"content\": cluster_system\n",
        "          },\n",
        "          {\n",
        "              \"role\":\"user\",\n",
        "              \"content\":f'\"\"\"{all_transcripts_joined}\"\"\"'\n",
        "          }\n",
        "        ]\n",
        "\n",
        "        response = client.chat.completions.create(\n",
        "            model=gpt_config['model'],\n",
        "            messages = messages\n",
        "        )\n",
        "\n",
        "        cluster_report = response.choices[0].message.content\n",
        "\n",
        "\n",
        "        cluster_info[label] = cluster_report\n",
        "\n",
        "    return cluster_info"
      ],
      "metadata": {
        "id": "ujtjZ2BX7pnH"
      },
      "execution_count": 78,
      "outputs": []
    },
    {
      "cell_type": "code",
      "source": [
        "classify_system = \"\"\"\n",
        "CONTEXT: You have previously created Complaint Groups of transcripts of complaint phone calls between a call center agent at a mortgage servicing company and a customer/borrower based\n",
        "on the category of the complaints. Transcripts under each Complaint Group has been categorized based on content under some label, for example, \"fraud or scam\".\n",
        "\n",
        "You will now be recieving two things: the first is a set of markdown reports representing the information you have gathered and organized for each CLUSTER, and are of the following format:\n",
        "\"– Complaint Group: [CLUSTER_CATEGORY_NAME]\n",
        "— Complaint Group Profile: [CLUSTER_INFORMATION]\"\n",
        "Each markdown report for each Complaint Group will be separated by a new line character \"\\n\".\n",
        "\n",
        "The second piece of data you will receive is a transcript that has not been categorized into one of your CLUSTERs yet.\n",
        "\n",
        "#############\n",
        "\n",
        "OBJECTIVE: Based on your natural language understanding, and your understanding of the read and determine which Complaint Group, the incoming transcript belongs under.\n",
        "\n",
        "#############\n",
        "\n",
        "# STYLE #\n",
        "Business analytics report\n",
        "\n",
        "#############\n",
        "\n",
        "# TONE #\n",
        "Professional, technical\n",
        "\n",
        "#############\n",
        "\n",
        "# AUDIENCE #\n",
        "Banks. I want accurate classification so that they will adopt this methodology to help organize their complaints database.\n",
        "\n",
        "#############\n",
        "\n",
        "# RESPONSE: Single line of text containing ONLY one [CLUSTER_CATEGORY_NAME] of your choosing. #\n",
        "[CLUSTER_CATEGORY_NAME]\n",
        "\"\"\""
      ],
      "metadata": {
        "id": "O_BO47O8AlNc"
      },
      "execution_count": 14,
      "outputs": []
    },
    {
      "cell_type": "code",
      "source": [
        "def classify_transcript(cluster_info, new_transcript):\n",
        "\n",
        "  # unpack and format cluster_info, aka the reports\n",
        "  markdown_reports = \"\"\n",
        "\n",
        "  for report in cluster_info.values():\n",
        "    markdown_reports = \"\\n\".join(report)\n",
        "\n",
        "  messages = [\n",
        "          {\n",
        "              \"role\":\"system\",\n",
        "              \"content\": classify_system\n",
        "          },\n",
        "          {\n",
        "              \"role\":\"user\",\n",
        "              \"content\":f'\"\"\"{markdown_reports} \\n {new_transcript}\"\"\"'\n",
        "          }\n",
        "        ]\n",
        "\n",
        "  response = client.chat.completions.create(\n",
        "            model=gpt_config['model'],\n",
        "            messages = messages\n",
        "        )\n",
        "\n",
        "  complaint_label = response.choices[0].message.content\n",
        "\n",
        "  return complaint_label\n"
      ],
      "metadata": {
        "id": "5oSp54t68EXL"
      },
      "execution_count": 84,
      "outputs": []
    },
    {
      "cell_type": "code",
      "source": [
        "# Run this to clean transcipts from scratch.\n",
        "LLM_cleaned_sentences = []\n",
        "all_labels = complaints_with_transcripts['Issue']\n",
        "\n",
        "# First, LLM cleanup\n",
        "tqdm.pandas(desc=\"LLM transcript cleaning\")\n",
        "LLM_cleaned_sentences = complaints_with_transcripts[\"Consumer complaint narrative\"].progress_apply(lambda x : clean_transcript(x))\n",
        "\n",
        "cleaned_dataset = pd.DataFrame({'Consumer complaint narrative': LLM_cleaned_sentences, 'Issue': all_labels})"
      ],
      "metadata": {
        "id": "uFBPt9kM3RQZ"
      },
      "execution_count": null,
      "outputs": []
    },
    {
      "cell_type": "markdown",
      "source": [
        "**Train-test split before clustering**"
      ],
      "metadata": {
        "id": "9Ku67Is_GZB9"
      }
    },
    {
      "cell_type": "code",
      "source": [
        "train_dataset, test_dataset = train_test_split(cleaned_dataset, random_state=104, test_size=0.20, shuffle = True)"
      ],
      "metadata": {
        "id": "dsVBRpAwGcuT"
      },
      "execution_count": 79,
      "outputs": []
    },
    {
      "cell_type": "code",
      "source": [
        "cluster_info = cluster_complaints(train_dataset)"
      ],
      "metadata": {
        "colab": {
          "base_uri": "https://localhost:8080/"
        },
        "id": "pHDv78CW0RQF",
        "outputId": "24fbf4d4-52ac-467f-cfa1-e7c1648802ca"
      },
      "execution_count": 80,
      "outputs": [
        {
          "output_type": "stream",
          "name": "stderr",
          "text": [
            "Creating clusters: 100%|██████████| 6/6 [03:10<00:00, 31.79s/it]\n"
          ]
        }
      ]
    },
    {
      "cell_type": "code",
      "source": [
        "print(cluster_info)"
      ],
      "metadata": {
        "colab": {
          "base_uri": "https://localhost:8080/"
        },
        "id": "M9j1ISym1L31",
        "outputId": "8967232e-73c6-43d5-e95e-9191ae5f9186"
      },
      "execution_count": 81,
      "outputs": [
        {
          "output_type": "stream",
          "name": "stdout",
          "text": [
            "{'Fraud or scam': '# RESPONSE: MARKDOWN REPORT #\\n\\n<From processing the CLUSTER you have received>:\\n– Complaint Group: **Fraudulent Money Transfers and Scams**\\n— Complaint Group Profile: Instances involving customers who have been victimized by fraudulent money transfers and scams through practices like false promises of services, misleading sales tactics, impersonation, hacking, and unauthorized changes in money transfer recipients. Victims often report transactions via wire services like Western Union or MoneyGram, or through services like PayPal, where funds were sent but services or products were never received, and refunds were denied or unattainable. Some complaints involve complex interactions with financial institutions where the legitimacy of transactions and communication was questionable, leading to significant monetary losses and subsequent difficulties in recovering these funds.\\n\\n', 'Incorrect/missing disclosures or info': \"### Complaint Group: Payment Transfer Issues\\n\\n#### Complaint Group Profile:\\n\\n- **Common Themes**: Customers are experiencing issues with money transfer services, wire transfers, payment platforms (such as PayPal, Venmo, MoneyGram, Western Union), and bank transactions. The complaints involve unauthorized charges, misleading transactions, technical errors, policy non-disclosures, frozen or limited accounts, fraudulent activity, identity verification problems, international transfer delays, communication issues with customer service, and non-compliance with regulation acts.\\n\\n- **Dataset Columns**:\\n  \\n  - **Complaint ID**: Unique identification for each complaint.\\n  - **Product**: The financial product mentioned (e.g., Money transfer, virtual currency, money service, wire transfer).\\n  - **Issue**: The primary issue experienced by the customer (e.g., Unauthorized transactions, transaction issues, service problems).\\n  - **Sub-issue**: More specific details of the complaint if applicable (e.g., Wrong amount transferred/debited, incorrect information used).\\n  - **Date Received**: The date the complaint was filed.\\n  - **Consumer Narrative**: A detailed customer description of the problem encountered.\\n  - **Company Response**: How the company addressed or failed to address the complaint.\\n  - **Dispute**: Whether the customer disputed the company's response.\\n  - **Company Name**: The financial institution or service provider in question.\\n\\n- **Transcription Characteristics**: The transcriptions contain specific details about individual complaints, including personal experiences, transaction particulars, dates, and sometimes company names and transaction amounts. Though the names are often redacted, the content still provides context about the nature of the complaint.\\n\\n- **Cluster KPIs**:\\n  \\n  - **Resolution Time**: The time taken to address and resolve the identified issue.\\n  - **Dispute Rate**: The frequency at which consumers dispute the company's response.\\n  - **Recurring Issues**: Common attributes among complaints that indicate systematic problems.\\n  - **Policy Clarity**: The degree to which customers understand the service provider's policies and their implications on transactions.\\n  - **Customer Service Quality**: Assessment of interactions with staff, availability for contact, and satisfaction with the resolution process.\\n\\n- **Challenges Identified in Cluster**:\\n  \\n  - **Miscommunication and Inadequate Disclosure**: Financial institutions fail to clearly communicate transaction processes, fees, or consequences, resulting in consumer confusion and dissatisfaction.\\n  - **Technical Glitches and User Errors**: Systems do not always provide adequate warnings or checks against potential mistypes or errors; some transactions are incorrectly processed.\\n  - **Fraud and Security**: Incidents of unauthorized transactions or concerns about the security of funds transferred.\\n  - **Regulatory Compliance**: Services do not appear to be consistent with regulations such as FCRA, leading to disputes and lack of transparency.\\n  - **Customer Service Ineffectiveness**: Inability to provide timely resolutions or lack of accountability for mistakes made by service representatives.\\n\", 'Money was not available when promised': '## Complaint Group: Funds Disbursement Issues\\n### Complaint Group Profile:\\nThe cluster contains numerous complaints from customers who have experienced problems when attempting to disburse or recover funds using various payment and money transfer services. The issues include but are not limited to:\\n- Delays in wire transfers being credited to the recipient\\'s account.\\n- Transfers not being processed within the advertised timeframe.\\n- Funds being held or frozen by financial institutions or payment processors without clear explanation.\\n- Ineffective customer service in resolving transfer delays or providing refunds.\\n- Inconsistencies between transfer confirmations and actual fund availability.\\n- Unforeseen holds placed on funds due to verification checks, causing inconvenience and financial stress to customers.\\n\\nThe customers affected have encountered these problems across different platforms and financial institutions, including banks, PayPal, Western Union, MoneyGram, and other online transfer services. These issues have resulted in additional financial burdens such as late fees, inability to meet financial obligations, and general distress. The affected customers are seeking assistance, compensation, or intervention to expedite fund release and resolve the poor service they have encountered.\\n\\n---\\n\\nBased on the cluster content describing various problems with the dispersal or recovery of transferred funds, the appropriate category name for these transcripts is \"Funds Disbursement Issues.\"', 'Other service issues': '# Complaint Group: Denial of Service and Account Issues\\n## Complaint Group Profile:\\n- **Cluster Description**: Clients have reported varied issues related to the restriction, suspension, or closure of their accounts with financial service providers such as PayPal, money transfer services like MoneyGram, and wallet services such as Google Wallet. These issues often involve holds on funds, inability to complete transactions, unexplained denial of service, failure to communicate effectively with customers, requests for personal information which the customers find excessive or unnecessary, and dissatisfaction with responses received from customer service when attempting to resolve these issues. Additionally, there are complaints about unauthorized credit inquiries, discriminatory practices based on recipient location or sender origin, lack of clear fee disclosure, misleading practices leading to account debits, and forced usage of specific payment methods over customer preferences. The cluster also includes concerns about companies using customer’s money for their own gain while the funds are frozen, mismanagement of sensitive customer information, and perceived overreach in compliance procedures causing inconvenience and at times financial losses to customers.\\n- **Data Insights**:\\n  1. **Originating Parties**: Predominantly individual customers and account holders of financial and payment service providers.\\n  2. **Primary Issues Cited**: Account suspension, account closure, restricted account access, holds on funds, declined transactions, unauthorized credit inquiries.\\n  3. **Service Providers Implicated**: PayPal, MoneyGram, Google Wallet, and other online money transfer platforms.\\n  4. **Common Complaint Themes**:\\n     - Disruption to financial activities due to account issues.\\n     - Inadequate or ineffective customer service responses.\\n     - Requests for excessive personal information for transaction approval.\\n     - Non-transparent fee structures leading to unexpected charges.\\n     - Practices that customers find deceptive or misleading.\\n     - Discrimination and regulatory compliance overreach.\\n- **Frequency of Key Terms**: \\n  - \"Account\" (High)\\n  - \"Customer Service\" (High)\\n  - \"Transaction\" (High)\\n  - \"Funds\" (Moderate)\\n  - \"Fees\" (Moderate)\\n  - \"Personal Information\" (Moderate)\\n\\n## Complaint Group: Insufficient and Deceptive Practices \\n### Complaint Group Profile:\\n- **Cluster Description**: This cluster includes customers feeling deceived by unclear fee disclosures, forced payment methods, unexpected credit inquiries, and lack of effective communication from financial services. Customers report unnecessary holds on funds, unexpected denial of services, unclear criteria on transaction approvals, and dissatisfaction with the dispute resolution processes. Misleading sign-ups for credit lines, unauthorized hard credit inquiries resulting in credit score impacts, and inadequate resolution for overcharged or unnecessary fees are also highlighted. Furthermore, the cluster encapsulates complaints regarding perceived discrimination based on payment destination and origin, as well as excessive requests for personal information leading to transaction denials, with the aggravation being exacerbated by claims of selective application of these practices.\\n- **Data Insights**:\\n  1. **Originating Parties**: Individuals encountering issues with payment platforms and money transfer services.\\n  2. **Primary Issues Cited**: Misleading fee structures, unauthorized credit line sign-ups, unjustified account restrictions, complex and non-transparent compliance rules impacting fund transfers.\\n  3. **Service Providers Implicated**: PayPal, MoneyGram, Google Wallet, eBay, Western Union, and other money-transfer related services.\\n  4. **Common Complaint Themes**:\\n     - Mismanagement of funds or incorrect processing of transactions.\\n     - The forced choice of payment methods leading to higher fees.\\n     - Account limitations without adequate explanations.\\n     - Difficulty in recovering funds or overturning service denials.\\n     - Frustration with customer service support and follow-through.\\n  - **Frequency of Key Terms**: \\n    - \"Fees\" (High)\\n    - \"Account\" (High)\\n    - \"Service\" (Moderate)\\n    - \"Credit Inquiry\" (Moderate)\\n    - \"Compliance\" (Moderate)\\n    - \"Transaction\" (Moderate)\\n\\nGiven the range of issues described by the customers related to their experiences with the implicated service providers, and the focus on problematic account management practices and fee structures, combined with customer dissatisfaction with company responses and dispute resolution processes, it is recommended that financial institutions and regulatory bodies take a closer look at the complaint narratives to understand the root causes and make necessary changes to ensure more transparent, fair, and customer-friendly service.', 'Other transaction issues': '# Report: CATEGORY_LABEL_CLARIFICATION_AND_REFUND_REQUESTS\\n\\n## Overview\\n\\nA common issue among customers is the difficulty in canceling transactions and securing refunds from financial institutions and money transfer services. Multiple incidents reflect a lack of transparency and responsiveness from companies in handling transaction errors and unauthorized charges. Customers express frustration with the prolonged refund processes and the seemingly bureaucratic hurdles that impede the recovery of their funds. \\n\\n## Specific Case Analysis\\n\\nCustomers report several instances where their attempts to transfer funds through various platforms like PayPal, Western Union, and MoneyGram result in errors, delays, or unauthorized transactions. Commonly cited reasons for canceling transfers include:\\n- Recipient’s inability to claim funds\\n- Mistaken transactions\\n- Sudden change of plans requiring the cancellation\\n- Suspicious or fraudulent activity restriction\\n\\nDisappointingly, customers encounter difficulties when seeking reversals or refunds from these financial services. The issues include lack of proper communication from customer service, long waiting times for a resolution, and funds being held without clear explanation. Customers are often provided conflicting information, receive little to no assistance, and at times, are faced with additional financial losses such as overdraft fees due to these transfer errors.\\n\\n## Recommendations for Financial Institutions and Money Transfer Services\\n\\n1. **Increase Transparency**: Clearly communicate the status of transactions, including cancellations and refunds, and offer explicit timelines for money returns.\\n2. **Improve Customer Service**: Establish efficient and responsive customer support systems that provide customers with direct assistance and avoid redirecting or disconnecting calls.\\n3. **Streamline Refund Processes**: Reduce waiting times for refunds and ensure refund policies are consistent and as per advertised by the service.\\n4. **Implement User-Friendly Verification**: Develop secure but simple methods to verify transaction cancellations or changes without unnecessarily burdening the customer.\\n5. **Enhance Security Measures**: Regularly update systems to prevent unauthorized transactions and ensure that secure and accurate information is handled properly.\\n\\n## Conclusion\\n\\nThe cluster reveals a pattern of customer challenges surrounding refund requests and the clarifications needed from financial entities. A collective call for improved practices in processing cancellations, issuing timely refunds, and enhancing the overall user experience with financial transactions is evident.', 'Wrong amount charged or received': '# Complaint Group: Transaction and Transfer Issues\\n\\n### Complaint Group Profile:\\nThe transcripts appear to include multiple instances where customers experienced issues regarding financial transactions and transfers. These issues encompass a variety of topics such as unexpected transfer fees, discrepancy in received amounts versus what was sent, incorrect wire transfer routing, misleading exchange rates, unclear or hidden bank charges, incorrect transaction categorization leading to unanticipated fees, and other difficulties related to the processing and execution of financial transactions.\\n\\nCustomers express frustrations over losses incurred from fees not clearly disclosed ahead of time, funds not reaching the intended recipient in the expected amount, and the inability to obtain satisfactory explanations or resolutions from the financial institutions in question. In some cases, banks or financial services are perceived to be acting fraudulently or unethically by not honoring previously stated fee structures or exchange rates, or by charging additional unwarranted fees without adequate disclosure. The issues extend across multiple platforms including transfers initiated via banks, Western Union, MoneyGram, and PayPal.\\n\\nThese problems often lead to a significant loss of trust in financial institutions and transfer services, and a lack of transparency is a recurring complaint among customers who feel overcharged or deceived by fluctuations in exchange rates, discrepancies in advertised versus actual transfer fees, and other associated costs with their transactions.\\n\\n---\\n\\n**Analysis Methodology:** The cluster was meticulously analyzed by categorizing the contents into themes based on the nature of the customer complaints. Core issues were identified and extracted to construct a comprehensive profile of the complaint types within the cluster. Recurring issues were grouped, and their essence was captured to appropriately categorize the cluster in a meaningful and representative way. The terminology and details were preserved as faithfully as possible to ensure accuracy and clarity in describing the nature of the complaints.'}\n"
          ]
        }
      ]
    },
    {
      "cell_type": "code",
      "source": [
        "# Optional: export cluster data to a file.\n",
        "import json\n",
        "\n",
        "# Convert dictionary to a string\n",
        "dict_string = json.dumps(cluster_info, indent=4)\n",
        "\n",
        "# Write the string to a file\n",
        "with open('cluster_info.txt', 'w') as file:\n",
        "    file.write(dict_string)\n",
        "\n",
        "!cp cluster_info.txt \"/content/drive/MyDrive/Internships and Work/Summer 2024/Vectari/out\"\n"
      ],
      "metadata": {
        "id": "ugb2ZjE4XIVG"
      },
      "execution_count": 89,
      "outputs": []
    },
    {
      "cell_type": "code",
      "source": [
        "print(test_dataset.iloc[0])\n",
        "classify_transcript(cluster_info, test_dataset.iloc[0]['Consumer complaint narrative'])"
      ],
      "metadata": {
        "colab": {
          "base_uri": "https://localhost:8080/",
          "height": 89
        },
        "id": "kMX63TdQ8Oca",
        "outputId": "bf058499-7aa6-4efe-f418-95190d6838e5"
      },
      "execution_count": 86,
      "outputs": [
        {
          "output_type": "stream",
          "name": "stdout",
          "text": [
            "Consumer complaint narrative    On XXXX/XXXX/15, I initiated a money transfer ...\n",
            "Issue                                                    Other transaction issues\n",
            "Name: 963, dtype: object\n"
          ]
        },
        {
          "output_type": "execute_result",
          "data": {
            "text/plain": [
              "'Transaction and Transfer Issues'"
            ],
            "application/vnd.google.colaboratory.intrinsic+json": {
              "type": "string"
            }
          },
          "metadata": {},
          "execution_count": 86
        }
      ]
    },
    {
      "cell_type": "code",
      "source": [],
      "metadata": {
        "id": "L-2F04zBWPKE"
      },
      "execution_count": null,
      "outputs": []
    }
  ]
}